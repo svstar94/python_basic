{
 "cells": [
  {
   "cell_type": "markdown",
   "metadata": {},
   "source": [
    "# 파일 입출력\n",
    "### 파일에 문자열 쓰기"
   ]
  },
  {
   "cell_type": "code",
   "execution_count": null,
   "metadata": {},
   "outputs": [],
   "source": [
    "file = open(\"file.txt\", \"w\")\n",
    "\n",
    "abc = \"\"\"\n",
    "adsjskdlfsd\n",
    "fsd\n",
    "fsd\n",
    "fsd\n",
    "fsdf\n",
    "\"\"\"\n",
    "\n",
    "file.write(abc)\n",
    "file.write(\"Second Line\")\n",
    "file.close()"
   ]
  },
  {
   "cell_type": "markdown",
   "metadata": {},
   "source": [
    "### 파일 문자열 읽기"
   ]
  },
  {
   "cell_type": "code",
   "execution_count": null,
   "metadata": {},
   "outputs": [],
   "source": [
    "file = open(\"file.txt\", \"r\")\n",
    "text = file.read()\n",
    "print(text)\n",
    "file.close()"
   ]
  },
  {
   "cell_type": "markdown",
   "metadata": {},
   "source": [
    "### with"
   ]
  },
  {
   "cell_type": "code",
   "execution_count": null,
   "metadata": {},
   "outputs": [],
   "source": [
    "file.read"
   ]
  },
  {
   "cell_type": "code",
   "execution_count": null,
   "metadata": {},
   "outputs": [],
   "source": [
    "with open(\"file.txt\",\"r\") as file:\n",
    "    # text = file.read()\n",
    "    # print(text)\n",
    "    print(file.readline())\n",
    "    print(file.readlines())"
   ]
  },
  {
   "cell_type": "code",
   "execution_count": null,
   "metadata": {},
   "outputs": [],
   "source": []
  },
  {
   "cell_type": "markdown",
   "metadata": {},
   "source": [
    "### pickle 모듈을 이용한 리스트 파일에 저장하기"
   ]
  },
  {
   "cell_type": "code",
   "execution_count": null,
   "metadata": {},
   "outputs": [],
   "source": [
    "import pickle\n",
    "\n",
    "text = [\"First File\", \"Second Line\"]\n",
    "\n",
    "with open('data2.p', 'wb') as file: #data.p 파일을 바이너리 쓰기모드로 열기\n",
    "    pickle.dump(text, file)"
   ]
  },
  {
   "cell_type": "markdown",
   "metadata": {},
   "source": [
    "### pickle 모듈을 이용한 리스트 파일에서 불러오기"
   ]
  },
  {
   "cell_type": "code",
   "execution_count": null,
   "metadata": {},
   "outputs": [],
   "source": [
    "with open('data2.p', 'rb') as file: #data.p 파일을 바이너리 읽기모드로 열기\n",
    "    data2 = pickle.load(file)\n",
    "    print(data2)"
   ]
  },
  {
   "cell_type": "markdown",
   "metadata": {},
   "source": [
    "### pickle 모듈을 이용한 여러가지 자료형 파일에 저장하기"
   ]
  },
  {
   "cell_type": "code",
   "execution_count": null,
   "metadata": {},
   "outputs": [],
   "source": [
    "import pickle\n",
    "\n",
    "name = 'tom'\n",
    "age = 24\n",
    "address = '서울시 마포구'\n",
    "scores = {'python': 90, 'deeplearning': 95, 'database': 85}\n",
    "\n",
    "with open('data.p', 'wb') as file: #data.p 파일을 바이너리 쓰기모드로 열기\n",
    "    pickle.dump(name, file)\n",
    "    pickle.dump(age, file)\n",
    "    pickle.dump(address, file)\n",
    "    pickle.dump(scores, file)"
   ]
  },
  {
   "cell_type": "markdown",
   "metadata": {},
   "source": [
    "### pickle 모듈을 이용한 여러가지 자료형 파일에서 불러오기"
   ]
  },
  {
   "cell_type": "code",
   "execution_count": null,
   "metadata": {},
   "outputs": [],
   "source": [
    "with open('data.p', 'rb') as file: #data.p 파일을 바이너리 읽기모드로 열기\n",
    "    name2 = pickle.load(file)\n",
    "    age2 = pickle.load(file)\n",
    "    address2 = pickle.load(file)\n",
    "    scores2 = pickle.load(file)\n",
    "    print(name2)\n",
    "    print(age2)\n",
    "    print(address2)\n",
    "    print(scores2)"
   ]
  },
  {
   "cell_type": "code",
   "execution_count": null,
   "metadata": {},
   "outputs": [],
   "source": []
  },
  {
   "cell_type": "code",
   "execution_count": null,
   "metadata": {},
   "outputs": [],
   "source": []
  },
  {
   "cell_type": "code",
   "execution_count": null,
   "metadata": {},
   "outputs": [],
   "source": []
  }
 ],
 "metadata": {
  "interpreter": {
   "hash": "322018e35ac4f46d1be23d37489e93f08b335b6041c3f34be3e4bfc70f2b3c28"
  },
  "kernelspec": {
   "display_name": "Python 3 (ipykernel)",
   "language": "python",
   "name": "python3"
  },
  "language_info": {
   "codemirror_mode": {
    "name": "ipython",
    "version": 3
   },
   "file_extension": ".py",
   "mimetype": "text/x-python",
   "name": "python",
   "nbconvert_exporter": "python",
   "pygments_lexer": "ipython3",
   "version": "3.9.7"
  }
 },
 "nbformat": 4,
 "nbformat_minor": 2
}
