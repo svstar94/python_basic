{
 "cells": [
  {
   "cell_type": "markdown",
   "metadata": {},
   "source": [
    "# Jupyter 기본 실습"
   ]
  },
  {
   "cell_type": "markdown",
   "metadata": {},
   "source": [
    "### 입, 출력\n",
    "  - input()\n",
    "  - print()"
   ]
  },
  {
   "cell_type": "code",
   "execution_count": 1,
   "metadata": {},
   "outputs": [
    {
     "data": {
      "text/plain": [
       "'hello'"
      ]
     },
     "execution_count": 1,
     "metadata": {},
     "output_type": "execute_result"
    }
   ],
   "source": [
    "input()"
   ]
  },
  {
   "cell_type": "code",
   "execution_count": 2,
   "metadata": {},
   "outputs": [
    {
     "name": "stdout",
     "output_type": "stream",
     "text": [
      "\n"
     ]
    }
   ],
   "source": [
    "print()"
   ]
  },
  {
   "cell_type": "markdown",
   "metadata": {},
   "source": [
    "### 주석\n",
    "  - \\# 주석\n",
    "  - \"\"\" 주석 \"\"\""
   ]
  },
  {
   "cell_type": "code",
   "execution_count": 3,
   "metadata": {},
   "outputs": [
    {
     "ename": "NameError",
     "evalue": "name 'x' is not defined",
     "output_type": "error",
     "traceback": [
      "\u001b[1;31m---------------------------------------------------------------------------\u001b[0m",
      "\u001b[1;31mNameError\u001b[0m                                 Traceback (most recent call last)",
      "\u001b[1;32m~\\AppData\\Local\\Temp/ipykernel_18356/1199411822.py\u001b[0m in \u001b[0;36m<module>\u001b[1;34m\u001b[0m\n\u001b[0;32m      2\u001b[0m \u001b[1;31m# x = input()\u001b[0m\u001b[1;33m\u001b[0m\u001b[1;33m\u001b[0m\u001b[0m\n\u001b[0;32m      3\u001b[0m \u001b[1;33m\u001b[0m\u001b[0m\n\u001b[1;32m----> 4\u001b[1;33m \u001b[0mprint\u001b[0m\u001b[1;33m(\u001b[0m\u001b[0mx\u001b[0m\u001b[1;33m)\u001b[0m\u001b[1;33m\u001b[0m\u001b[1;33m\u001b[0m\u001b[0m\n\u001b[0m",
      "\u001b[1;31mNameError\u001b[0m: name 'x' is not defined"
     ]
    }
   ],
   "source": [
    "# 이것은 주석입니다.\n",
    "# x = input()\n",
    "\n",
    "print(x)"
   ]
  },
  {
   "cell_type": "code",
   "execution_count": 4,
   "metadata": {},
   "outputs": [
    {
     "data": {
      "text/plain": [
       "'\\nx = input()\\nprint(x)\\n'"
      ]
     },
     "execution_count": 4,
     "metadata": {},
     "output_type": "execute_result"
    }
   ],
   "source": [
    "\"\"\"\n",
    "x = input()\n",
    "print(x)\n",
    "\"\"\""
   ]
  },
  {
   "cell_type": "markdown",
   "metadata": {},
   "source": [
    "## 코드 라인\n",
    "* 파이썬 코드는 '1줄에 1문장(statment)'이 원칙입니다.\n",
    "\n",
    "* 문장(statement)은 파이썬이 실행 가능(executable)한 최소한의 코드 단위입니다. \n",
    "\n",
    "* 기본적으로 파이썬에서는 `;`을 작성하지 않습니다.\n",
    "\n",
    "* 한 줄로 표기할때는 `;`을 작성하여 표기할 수 있습니다. "
   ]
  },
  {
   "cell_type": "code",
   "execution_count": 5,
   "metadata": {},
   "outputs": [
    {
     "ename": "SyntaxError",
     "evalue": "invalid syntax (Temp/ipykernel_18356/1569518010.py, line 6)",
     "output_type": "error",
     "traceback": [
      "\u001b[1;36m  File \u001b[1;32m\"C:\\Users\\sosin\\AppData\\Local\\Temp/ipykernel_18356/1569518010.py\"\u001b[1;36m, line \u001b[1;32m6\u001b[0m\n\u001b[1;33m    a =  # 실행 안됨\u001b[0m\n\u001b[1;37m         ^\u001b[0m\n\u001b[1;31mSyntaxError\u001b[0m\u001b[1;31m:\u001b[0m invalid syntax\n"
     ]
    }
   ],
   "source": [
    "# print문을 두번 써봅시다.\n",
    "\n",
    "# a = 1\n",
    "# a > 2 # False -> Boolean\n",
    "\n",
    "a =  # 실행 안됨"
   ]
  },
  {
   "cell_type": "code",
   "execution_count": null,
   "metadata": {},
   "outputs": [],
   "source": [
    "# print문 2개를 한 줄로 이어서 작성하면 어떻게 될까요?\n",
    "# 아래 코드를 실행시켜 결과를 확인해봅시다."
   ]
  },
  {
   "cell_type": "code",
   "execution_count": 6,
   "metadata": {},
   "outputs": [
    {
     "ename": "SyntaxError",
     "evalue": "invalid syntax (Temp/ipykernel_18356/2516608256.py, line 1)",
     "output_type": "error",
     "traceback": [
      "\u001b[1;36m  File \u001b[1;32m\"C:\\Users\\sosin\\AppData\\Local\\Temp/ipykernel_18356/2516608256.py\"\u001b[1;36m, line \u001b[1;32m1\u001b[0m\n\u001b[1;33m    print('hello world') print('hello python')\u001b[0m\n\u001b[1;37m                         ^\u001b[0m\n\u001b[1;31mSyntaxError\u001b[0m\u001b[1;31m:\u001b[0m invalid syntax\n"
     ]
    }
   ],
   "source": [
    "print('hello world') print('hello python')"
   ]
  },
  {
   "cell_type": "code",
   "execution_count": null,
   "metadata": {},
   "outputs": [],
   "source": [
    "# ;을 통해 코드를 구분시켜서 오류를 해결해봅시다."
   ]
  },
  {
   "cell_type": "code",
   "execution_count": 7,
   "metadata": {},
   "outputs": [
    {
     "name": "stdout",
     "output_type": "stream",
     "text": [
      "hello world\n",
      "hello python\n"
     ]
    }
   ],
   "source": [
    "print('hello world'); print('hello python')"
   ]
  },
  {
   "cell_type": "code",
   "execution_count": null,
   "metadata": {},
   "outputs": [],
   "source": [
    "# 하지만 위와 같이 한줄에 두 개 이상의 코드를 작성하는 작성법은 잘 쓰지는 않습니다."
   ]
  },
  {
   "cell_type": "markdown",
   "metadata": {},
   "source": [
    "* 줄을 여러줄 작성할 때는 역슬래시`\\`를 사용하여 아래와 같이 할 수 있다. "
   ]
  },
  {
   "cell_type": "code",
   "execution_count": null,
   "metadata": {},
   "outputs": [],
   "source": [
    "# print문을 통해 하나의 문자열을 두 줄로 작성하여 실행해봅시다. \n",
    "# 아래의 코드를 실행시켜 오류 메시지를 확인해봅시다."
   ]
  },
  {
   "cell_type": "code",
   "execution_count": 8,
   "metadata": {},
   "outputs": [
    {
     "ename": "SyntaxError",
     "evalue": "EOL while scanning string literal (Temp/ipykernel_18356/693428738.py, line 1)",
     "output_type": "error",
     "traceback": [
      "\u001b[1;36m  File \u001b[1;32m\"C:\\Users\\sosin\\AppData\\Local\\Temp/ipykernel_18356/693428738.py\"\u001b[1;36m, line \u001b[1;32m1\u001b[0m\n\u001b[1;33m    print('hello\u001b[0m\n\u001b[1;37m                ^\u001b[0m\n\u001b[1;31mSyntaxError\u001b[0m\u001b[1;31m:\u001b[0m EOL while scanning string literal\n"
     ]
    }
   ],
   "source": [
    "print('hello\n",
    "world')"
   ]
  },
  {
   "cell_type": "code",
   "execution_count": null,
   "metadata": {},
   "outputs": [],
   "source": [
    "# print문을 통해 실행되는 코드 예시 작성해봅시다.\n",
    "# hello 뒤에 \\를 붙이고 다시 코드를 실행해봅시다."
   ]
  },
  {
   "cell_type": "code",
   "execution_count": 9,
   "metadata": {},
   "outputs": [
    {
     "name": "stdout",
     "output_type": "stream",
     "text": [
      "helloworld\n"
     ]
    }
   ],
   "source": [
    "print('hello\\\n",
    "world')"
   ]
  },
  {
   "cell_type": "code",
   "execution_count": null,
   "metadata": {},
   "outputs": [],
   "source": [
    "## PEP-8 가이드에 따르면 여러줄 문자열은 아래와 같이 쓰는 게 관례(convention)입니다."
   ]
  },
  {
   "cell_type": "code",
   "execution_count": 10,
   "metadata": {},
   "outputs": [
    {
     "name": "stdout",
     "output_type": "stream",
     "text": [
      "hello\n",
      "world\n"
     ]
    }
   ],
   "source": [
    "print(\"\"\"hello\n",
    "world\"\"\")"
   ]
  },
  {
   "cell_type": "markdown",
   "metadata": {},
   "source": [
    "* `[]` `{}` `()`는 `\\` 없이도 가능합니다."
   ]
  },
  {
   "cell_type": "code",
   "execution_count": null,
   "metadata": {},
   "outputs": [],
   "source": [
    "# 점심메뉴 lunch 에 대괄호를 사용한 list를 만들어봅시다.\n",
    "# list 대괄호 안에는 \n",
    "# '짜장면', '짬뽕', '탕수육','군만두', '물만두', '왕만두'를\n",
    "# 두 줄로 채워넣어 봅시다.\n",
    "\n",
    "# 공식문서 참고\n",
    "# https://www.python.org/dev/peps/pep-0008/#id17"
   ]
  },
  {
   "cell_type": "code",
   "execution_count": 11,
   "metadata": {},
   "outputs": [],
   "source": [
    "# 닫히는 대괄호의 위치 \n",
    "# (1). 첫번째 요소(짜장면)의 시작 위치\n",
    "lunch1 = [\n",
    "    '짜장면', '짬뽕', '탕수육',\n",
    "    '군만두', '물만두', '왕만두',\n",
    "    ] "
   ]
  },
  {
   "cell_type": "code",
   "execution_count": 12,
   "metadata": {},
   "outputs": [],
   "source": [
    "# (2) 생성자(lunch2)가 시작되는 위치\n",
    "lunch2 = [\n",
    "    '짜장면', '짬뽕', '탕수육',\n",
    "    '군만두', '물만두', '왕만두',\n",
    "]"
   ]
  },
  {
   "cell_type": "code",
   "execution_count": null,
   "metadata": {},
   "outputs": [],
   "source": [
    "## PEP-8 가이드에 따르면 \n",
    "## list 가 여러 줄로 작성될 때 \n",
    "## 닫히는 대괄호의 위치는\n",
    "## (1) 첫번째 문자(요소) 위치에 오거나 \n",
    "## (2) 마지막 줄에서 생성자가 시작되는 첫번째 열에 위치합니다.\n",
    "\n",
    "## 다른 (소, 중)괄호도 동일한 컨벤션을 따릅니다."
   ]
  },
  {
   "cell_type": "markdown",
   "metadata": {},
   "source": [
    "### 참고 -> 만약 print 함수의 end 기본 옵션이 너무너무 궁금하다?\n",
    "1. 가장 먼저 고민해야 할 것은? \"이거 구글에 뭐라고 검색할까?\"\n",
    " - 손이 먼저 가는 것이 아니라 어떻게 검색해야 할 지 먼저 고민해보자\n",
    "\n",
    "\n",
    "2. 구글에 어떻게 검색할까?\n",
    " - `how to ~..`\n",
    " - 구글 번역기 활용\n",
    "  ex) 파이썬에서 print 함수의 end 옵션은 어떤 역할을 하나요?\n",
    "    - What does the end option of the print function do in Python?\n",
    "\n",
    "\n",
    "3. 해당 내용을 구글에 검색 \n",
    "https://docs.python.org/3/library/functions.html#print\n",
    " - 공식 문서\n",
    " - stackoverflow \n",
    " - 이후 영어 문서 -> 한글 문서 \n",
    "\n",
    "\n",
    "4. 결과를 다른 사람들과 공유\n",
    " - 어떤 것을 내 것으로 만드는 과정은 보고 이해하는 순간이 아니라 '정리'하는 순간!"
   ]
  },
  {
   "cell_type": "code",
   "execution_count": null,
   "metadata": {},
   "outputs": [],
   "source": [
    "# print 함수의 end 옵션의 기본은 \\n입니다.\n",
    "# 물론, end 옵션은 이스케이프 문자열이 아닌 다른 것도 가능합니다.\n",
    "# end에 다른 문자열도 넣을 수 있습니다. \n",
    "# 아래 코드를 수정하여 다음의 결과를 출력해봅시다.\n",
    "# '개행 문자 말고도 가능합니다!진짜로!알고보면 print는 기본이\\n!'"
   ]
  },
  {
   "cell_type": "code",
   "execution_count": 13,
   "metadata": {},
   "outputs": [
    {
     "name": "stdout",
     "output_type": "stream",
     "text": [
      "개행 문자 말고도 가능합니다\n",
      "진짜로\n",
      "알고보면 print는 기본이 \\n\n"
     ]
    }
   ],
   "source": [
    "print('개행 문자 말고도 가능합니다')\n",
    "print('진짜로')\n",
    "print('알고보면 print는 기본이 \\\\n')"
   ]
  },
  {
   "cell_type": "code",
   "execution_count": null,
   "metadata": {},
   "outputs": [],
   "source": []
  },
  {
   "cell_type": "markdown",
   "metadata": {},
   "source": [
    "### [참고] 표현식(Expression) & 문장(Statement)\n"
   ]
  },
  {
   "cell_type": "markdown",
   "metadata": {},
   "source": [
    "### 표현식(Expression)\n",
    "\n",
    "> 표현식 => `evaluate` => 값\n",
    "\n",
    "* 하나의 값(value)으로 환원(reduce)될 수 있는 문장을 의미합니다.\n",
    "* `식별자`, `값`(리터럴), `연산자`로 구성됩니다.\n",
    "* 표현식을 만드는 문법(syntax)은 일반적인 (중위표기) 수식의 규칙과 유사합니다.\n",
    "\n",
    "[파이썬 문서](https://docs.python.org/ko/3/reference/expressions.html)"
   ]
  },
  {
   "cell_type": "code",
   "execution_count": null,
   "metadata": {},
   "outputs": [],
   "source": [
    "# 표현식에 대해 알아봅시다."
   ]
  },
  {
   "cell_type": "code",
   "execution_count": 14,
   "metadata": {},
   "outputs": [
    {
     "data": {
      "text/plain": [
       "'hello'"
      ]
     },
     "execution_count": 14,
     "metadata": {},
     "output_type": "execute_result"
    }
   ],
   "source": [
    "# 하나의 값(value)도 표현식(expression)이 될 수 있습니다.\n",
    "'hello'"
   ]
  },
  {
   "cell_type": "code",
   "execution_count": 15,
   "metadata": {},
   "outputs": [],
   "source": [
    "# 표현식은 하나의 값으로 평가(evaluate)될 수 있어야 합니다. \n",
    "# 그러면 할당문(assignment statement)은 표현식일까요?\n",
    "radius = 10"
   ]
  },
  {
   "cell_type": "code",
   "execution_count": 16,
   "metadata": {},
   "outputs": [
    {
     "data": {
      "text/plain": [
       "78.5"
      ]
     },
     "execution_count": 16,
     "metadata": {},
     "output_type": "execute_result"
    }
   ],
   "source": [
    "# 식별자가 값이 할당되어 있는 경우 수식의 일부가 될 수 있습니다.\n",
    "3.14 * (radius - 5) ** 2"
   ]
  },
  {
   "cell_type": "code",
   "execution_count": 17,
   "metadata": {},
   "outputs": [
    {
     "ename": "SyntaxError",
     "evalue": "invalid syntax (Temp/ipykernel_18356/2003926719.py, line 3)",
     "output_type": "error",
     "traceback": [
      "\u001b[1;36m  File \u001b[1;32m\"C:\\Users\\sosin\\AppData\\Local\\Temp/ipykernel_18356/2003926719.py\"\u001b[1;36m, line \u001b[1;32m3\u001b[0m\n\u001b[1;33m    4 +\u001b[0m\n\u001b[1;37m        ^\u001b[0m\n\u001b[1;31mSyntaxError\u001b[0m\u001b[1;31m:\u001b[0m invalid syntax\n"
     ]
    }
   ],
   "source": [
    "# 표현식을 만드는 문법(syntax)은 일반적인 (중위표기) 수식의 규칙과 유사합니다. \n",
    "# 아래와 같은 문장은 표현식이 될 수 없습니다.\n",
    "4 + "
   ]
  },
  {
   "cell_type": "markdown",
   "metadata": {},
   "source": [
    "### 문장(Statement)\n",
    "\n",
    "* 파이썬이 실행 가능한 최소한의 코드 단위 (a syntatic unit of programming)"
   ]
  },
  {
   "cell_type": "code",
   "execution_count": null,
   "metadata": {},
   "outputs": [],
   "source": [
    "# 문장에 대해 알아봅시다."
   ]
  },
  {
   "cell_type": "code",
   "execution_count": 18,
   "metadata": {},
   "outputs": [
    {
     "data": {
      "text/plain": [
       "'python'"
      ]
     },
     "execution_count": 18,
     "metadata": {},
     "output_type": "execute_result"
    }
   ],
   "source": [
    "# 하나의 값(value)도 문장이 될 수 있습니다.\n",
    "'python'"
   ]
  },
  {
   "cell_type": "code",
   "execution_count": 19,
   "metadata": {},
   "outputs": [
    {
     "data": {
      "text/plain": [
       "101"
      ]
     },
     "execution_count": 19,
     "metadata": {},
     "output_type": "execute_result"
    }
   ],
   "source": [
    "# 표현식(expression)도 문장이 될 수 있습니다.\n",
    "5 * 21 - 4 "
   ]
  },
  {
   "cell_type": "code",
   "execution_count": 20,
   "metadata": {},
   "outputs": [],
   "source": [
    "# 실행 가능(executable)해야 하기 때문에 아래의 코드는 문장이 될 수 없습니다."
   ]
  },
  {
   "cell_type": "code",
   "execution_count": 21,
   "metadata": {},
   "outputs": [
    {
     "ename": "SyntaxError",
     "evalue": "EOL while scanning string literal (Temp/ipykernel_18356/1994775210.py, line 1)",
     "output_type": "error",
     "traceback": [
      "\u001b[1;36m  File \u001b[1;32m\"C:\\Users\\sosin\\AppData\\Local\\Temp/ipykernel_18356/1994775210.py\"\u001b[1;36m, line \u001b[1;32m1\u001b[0m\n\u001b[1;33m    name = '\u001b[0m\n\u001b[1;37m            ^\u001b[0m\n\u001b[1;31mSyntaxError\u001b[0m\u001b[1;31m:\u001b[0m EOL while scanning string literal\n"
     ]
    }
   ],
   "source": [
    "name = '"
   ]
  },
  {
   "cell_type": "markdown",
   "metadata": {},
   "source": [
    "### 문장과 표현식의 관계\n",
    "\n",
    "<center><img width=\"600\" height=\"300\" src=\"https://user-images.githubusercontent.com/9452521/87619771-f41f5e00-c757-11ea-9e4b-1f76e4ca0981.png\", alt=\"variable\"/></center>"
   ]
  }
 ],
 "metadata": {
  "interpreter": {
   "hash": "e508c96042fd7b3aa969c1a8875668ac50b0a6c54de6b2bab6d59ac763cd3db2"
  },
  "kernelspec": {
   "display_name": "Python 3 (ipykernel)",
   "language": "python",
   "name": "python3"
  },
  "language_info": {
   "codemirror_mode": {
    "name": "ipython",
    "version": 3
   },
   "file_extension": ".py",
   "mimetype": "text/x-python",
   "name": "python",
   "nbconvert_exporter": "python",
   "pygments_lexer": "ipython3",
   "version": "3.9.7"
  }
 },
 "nbformat": 4,
 "nbformat_minor": 2
}
