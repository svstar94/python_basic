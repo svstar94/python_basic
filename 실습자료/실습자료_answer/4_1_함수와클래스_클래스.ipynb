{
 "cells": [
  {
   "cell_type": "markdown",
   "metadata": {},
   "source": [
    "<p style=\"font-size: 33px; font-weight: 700; margin-bottom: 3rem\">OOP I</p>\n",
    "\n",
    "\n",
    "\n",
    "- 객체(Object)\n",
    "- 객체지향프로그래밍(Object Oriented Programming)\n",
    "- 클래스(Class)와 객체(Object)\n"
   ]
  },
  {
   "cell_type": "markdown",
   "metadata": {},
   "source": [
    "# 객체(Object)\n",
    "\n",
    "> Python에서 **모든 것은 객체(object)**입니다.\n",
    "\n",
    "> 모든 객체는 **타입(type), 속성(attribute), 조작법(method)**을 가집니다.\n"
   ]
  },
  {
   "cell_type": "markdown",
   "metadata": {},
   "source": [
    "객체(Object)의 특징\n",
    "\n",
    "- **타입(type)**: 어떤 연산자(operator)와 조작(method)이 가능한가? \n",
    "- **속성(attribute)**: 어떤 상태(데이터)를 가지는가?\n",
    "- **조작법(method)**: 어떤 행위(함수)를 할 수 있는가?"
   ]
  },
  {
   "cell_type": "markdown",
   "metadata": {},
   "source": [
    "## 타입(Type)과 인스턴스(Instance)\n",
    "\n",
    "| type         | instance                 | \n",
    "| -------------| ------------------------ | \n",
    "| `int`        | `0`, `1`, `2`            |\n",
    "| `str`        | `''`, `'hello'`, `'123'` | \n",
    "| `list`       | `[]`, `['a', 'b']`       | \n",
    "| `dict`       | `{}`, `{'key': 'value'}` | "
   ]
  },
  {
   "cell_type": "markdown",
   "metadata": {},
   "source": [
    "### 타입(Type)\n",
    "\n",
    "- 공통된 속성(attribute)과 조작법(method)을 가진 객체들의 분류"
   ]
  },
  {
   "cell_type": "markdown",
   "metadata": {},
   "source": [
    "### 인스턴스(Instance)\n",
    "- 특정 타입(type)의 실제 데이터 예시(instance)입니다. \n",
    "- 파이썬에서 모든 것은 객체이고, **모든 객체는 특정 타입의 인스턴스**입니다.\n",
    "\n",
    "```python\n",
    "a = 10\n",
    "b = 20\n",
    "# a, b 는 객체\n",
    "# a, b 는 int 타입(type)의 인스턴스\n",
    "```"
   ]
  },
  {
   "cell_type": "code",
   "execution_count": 2,
   "metadata": {},
   "outputs": [],
   "source": [
    "a = 10"
   ]
  },
  {
   "cell_type": "code",
   "execution_count": 3,
   "metadata": {},
   "outputs": [],
   "source": [
    "# a 의 type이 int형인지 is 연산자로 확인해 봅시다."
   ]
  },
  {
   "cell_type": "code",
   "execution_count": 4,
   "metadata": {},
   "outputs": [
    {
     "data": {
      "text/plain": [
       "True"
      ]
     },
     "execution_count": 4,
     "metadata": {},
     "output_type": "execute_result"
    }
   ],
   "source": [
    "type(a) is int"
   ]
  },
  {
   "cell_type": "code",
   "execution_count": null,
   "metadata": {},
   "outputs": [],
   "source": [
    "# isinstance 함수를 활용해 확인해 봅시다."
   ]
  },
  {
   "cell_type": "code",
   "execution_count": 5,
   "metadata": {},
   "outputs": [
    {
     "data": {
      "text/plain": [
       "True"
      ]
     },
     "execution_count": 5,
     "metadata": {},
     "output_type": "execute_result"
    }
   ],
   "source": [
    "isinstance(a, int)"
   ]
  },
  {
   "cell_type": "markdown",
   "metadata": {},
   "source": [
    "## 속성(Attribute)과 메서드(Method)\n",
    "\n",
    "객체의 속성(상태, 데이터)과 조작법(함수)을 명확히 구분해 봅시다.\n",
    "\n",
    "\n",
    "| type         | attributes       | methods                                |\n",
    "| -------------| ---------------- | -------------------------------------- |\n",
    "| `complex`    | `.real`, `.imag` |                                        |\n",
    "| `str`        |       _          | `.capitalize()`, `.join()`, `.split()` |\n",
    "| `list`       |       _          | `.append()`, `.reverse()`, `.sort()`   |\n",
    "| `dict`       |       _          | `.keys()`, `.values()`, `.items()`     |"
   ]
  },
  {
   "cell_type": "markdown",
   "metadata": {},
   "source": [
    "### 속성(Attribute)\n",
    "\n",
    "- 속성(attribute)은 객체(object)의 상태/데이터를 뜻합니다.\n",
    "\n",
    "\n",
    "**활용법**\n",
    "\n",
    "```py\n",
    "<객체>.<속성>\n",
    "```\n",
    "\n",
    "**예시**\n",
    "\n",
    "```py\n",
    "3+4j.real\n",
    "```\n",
    "\n",
    "- `complex` 타입 인스턴스가 가진 속성을 확인해봅시다."
   ]
  },
  {
   "cell_type": "code",
   "execution_count": null,
   "metadata": {},
   "outputs": [],
   "source": [
    "# 복소수를 만들어보고, 타입을 출력해봅시다."
   ]
  },
  {
   "cell_type": "code",
   "execution_count": 7,
   "metadata": {},
   "outputs": [
    {
     "name": "stdout",
     "output_type": "stream",
     "text": [
      "<class 'complex'>\n"
     ]
    }
   ],
   "source": [
    "# \n",
    "img_number = 3 + 4j\n",
    "print(type(img_number))"
   ]
  },
  {
   "cell_type": "code",
   "execution_count": 8,
   "metadata": {},
   "outputs": [],
   "source": [
    "# 허수부랑 실수부 .real과 .imag 속성을 통해 각각 출력해봅시다. \n",
    "# complex 객체의 실수 속성과 허수 속성이라고도 표현 가능합니다."
   ]
  },
  {
   "cell_type": "code",
   "execution_count": 9,
   "metadata": {},
   "outputs": [
    {
     "name": "stdout",
     "output_type": "stream",
     "text": [
      "3.0\n",
      "4.0\n"
     ]
    }
   ],
   "source": [
    "print(img_number.real)\n",
    "print(img_number.imag)"
   ]
  },
  {
   "cell_type": "markdown",
   "metadata": {},
   "source": [
    "### 메서드(Method)\n",
    "\n",
    "- 특정 객체에 적용할 수 있는 행위(behavior)를 뜻 합니다.\n",
    "\n",
    "**활용법**\n",
    "```py\n",
    "<객체>.<메서드>()\n",
    "```\n",
    "\n",
    "**예시**\n",
    "```py\n",
    "[3, 2, 1].sort()\n",
    "```\n",
    "\n",
    "- `list` type의 인스턴스에 적용 가능한 조작법(method)을 확인해 봅시다."
   ]
  },
  {
   "cell_type": "code",
   "execution_count": null,
   "metadata": {},
   "outputs": [],
   "source": [
    "# 리스트를 하나 만들고 정렬해봅시다. \n",
    "# 리스트 타입 객체의 sort() 메서드로 정렬 가능합니다."
   ]
  },
  {
   "cell_type": "code",
   "execution_count": 10,
   "metadata": {},
   "outputs": [],
   "source": [
    "my_list = [3, 4, 2, 1]\n",
    "my_list.sort() # my_list라는 인스턴스가 할 수 있는 sort라는 행위 "
   ]
  },
  {
   "cell_type": "code",
   "execution_count": 11,
   "metadata": {},
   "outputs": [],
   "source": [
    "# list 타입의 객체들이 할 수 있는 것들을 알아봅시다. (list 타입 객체가 가지고 있는 모든 속성과 메서드를 보여줍니다.)"
   ]
  },
  {
   "cell_type": "code",
   "execution_count": 12,
   "metadata": {},
   "outputs": [
    {
     "name": "stdout",
     "output_type": "stream",
     "text": [
      "['__add__', '__class__', '__class_getitem__', '__contains__', '__delattr__', '__delitem__', '__dir__', '__doc__', '__eq__', '__format__', '__ge__', '__getattribute__', '__getitem__', '__gt__', '__hash__', '__iadd__', '__imul__', '__init__', '__init_subclass__', '__iter__', '__le__', '__len__', '__lt__', '__mul__', '__ne__', '__new__', '__reduce__', '__reduce_ex__', '__repr__', '__reversed__', '__rmul__', '__setattr__', '__setitem__', '__sizeof__', '__str__', '__subclasshook__', 'append', 'clear', 'copy', 'count', 'extend', 'index', 'insert', 'pop', 'remove', 'reverse', 'sort']\n"
     ]
    }
   ],
   "source": [
    "print(dir(list))"
   ]
  },
  {
   "cell_type": "markdown",
   "metadata": {},
   "source": [
    "---"
   ]
  },
  {
   "cell_type": "markdown",
   "metadata": {},
   "source": [
    "# 객체 지향 프로그래밍(Object-Oriented Programming)\n",
    "\n",
    "Object가 중심(oriented)이 되는 프로그래밍\n",
    "\n",
    "**<wikipedia - 객체지향 프로그래밍>**\n",
    ">\n",
    "> 객체 지향 프로그래밍(영어: Object-Oriented Programming, OOP)은 컴퓨터 프로그래밍의 패러다임의 하나입니다. \n",
    ">\n",
    "> 객체 지향 프로그래밍은 컴퓨터 프로그램을 명령어의 목록으로 보는 시각에서 벗어나 여러 개의 독립된 단위, 즉 \"객체\"들의 모임으로 파악하고자 하는 것입니다.\n",
    "\n",
    "\n"
   ]
  },
  {
   "cell_type": "markdown",
   "metadata": {},
   "source": [
    "## 절차 중심 vs. Object 중심\n",
    "\n",
    "> 프로그래밍 패러다임: 어떻게 프로그램을 작성할 것인가"
   ]
  },
  {
   "cell_type": "markdown",
   "metadata": {},
   "source": [
    "## Object 중심의 장점\n",
    "\n",
    "\n",
    "**<wikipedia - 객체지향 프로그래밍>**\n",
    "> 객체 지향 프로그래밍은 프로그램을 유연하고 변경이 용이하게 만들기 때문에 대규모 소프트웨어 개발에 많이 사용됩니다. \n",
    ">\n",
    "> 또한 프로그래밍을 더 배우기 쉽게 하고 소프트웨어 개발과 보수를 간편하게 하며,\n",
    ">\n",
    "> 보다 직관적인 코드 분석을 가능하게 하는 장점을 갖고 있습니다.\n",
    "\n",
    "- 코드의 **직관성**\n",
    "\n",
    "- 활용의 **용이성**\n",
    "\n",
    "- 변경의 **유연성**"
   ]
  },
  {
   "cell_type": "markdown",
   "metadata": {},
   "source": [
    "---"
   ]
  },
  {
   "cell_type": "markdown",
   "metadata": {},
   "source": [
    "# 클래스(Class)와 인스턴스(Instance)\n",
    "\n",
    "> `class`: 객체들의 분류(class)를 정의할 때 쓰이는 키워드\n",
    "\n",
    "> `instance`: 객체의 실체와 예, 인스턴스(instance)를 활용\n"
   ]
  },
  {
   "cell_type": "markdown",
   "metadata": {},
   "source": [
    "## 클래스(Class) 생성\n",
    "\n",
    "* 클래스 생성은 `class` 키워드와 정의하고자 하는 `<클래스의 이름>`으로 가능합니다.\n",
    "\n",
    "* `<클래스의 이름>`은 `PascalCase`로 정의합니다.\n",
    "\n",
    "* 클래스 내부에는 데이터와 함수를 정의할 수 있고, 이때 데이터는 **속성(attribute)** 정의된 함수는 **메서드(method)**로 부릅니다.\n",
    "\n",
    "---\n",
    "\n",
    "**활용법**\n",
    "\n",
    "```python\n",
    "class <클래스이름>:\n",
    "    <statement>\n",
    "```\n",
    "\n",
    "```python\n",
    "class ClassName:\n",
    "    statement\n",
    "```"
   ]
  },
  {
   "cell_type": "code",
   "execution_count": null,
   "metadata": {},
   "outputs": [],
   "source": [
    "# Person 이라는 이름의 class를 정의해봅시다. \n",
    "# 아래와 같이 \"\"\"(docstring)을 통해 설명(doc)도 함께 정의해 봅시다."
   ]
  },
  {
   "cell_type": "markdown",
   "metadata": {},
   "source": [
    "```python\n",
    "class ClassName:\n",
    "    \"\"\"\n",
    "    This is DOCSTRING\n",
    "    \"\"\"\n",
    "```"
   ]
  },
  {
   "cell_type": "code",
   "execution_count": 13,
   "metadata": {},
   "outputs": [],
   "source": [
    "class Person:\n",
    "    \"\"\"\n",
    "    이 클래스는 사람을 분류하는 'Person' 클래스입니다.\n",
    "    \"\"\""
   ]
  },
  {
   "cell_type": "code",
   "execution_count": 14,
   "metadata": {},
   "outputs": [],
   "source": [
    "# 정의한 Person 클래스의 type을 출력해 봅시다"
   ]
  },
  {
   "cell_type": "code",
   "execution_count": 15,
   "metadata": {},
   "outputs": [
    {
     "name": "stdout",
     "output_type": "stream",
     "text": [
      "<class 'type'>\n"
     ]
    }
   ],
   "source": [
    "print(type(Person))"
   ]
  },
  {
   "cell_type": "markdown",
   "metadata": {},
   "source": [
    "## 인스턴스(Instance) 생성\n",
    "* 정의된 클래스(`class`)에 속하는 객체를 해당 클래스의 인스턴스(instance)라고 합니다.\n",
    "\n",
    "* `Person` 클래스의 인스턴스는 `Person()`을 호출함으로써 생성됩니다.\n",
    "\n",
    "* `type()` 함수를 통해 생성된 객체의 클래스를 확인할 수 있습니다.\n",
    "\n",
    "\n",
    "**활용법**\n",
    "\n",
    "\n",
    "```python\n",
    "# 인스턴스 = 클래스()\n",
    "person1 = Person()\n",
    "```\n",
    "\n",
    "- `person1`은 사용자가 정의한(user-defined) `Person`이라는 데이터 타입(data type)의 인스턴스입니다."
   ]
  },
  {
   "cell_type": "code",
   "execution_count": null,
   "metadata": {},
   "outputs": [],
   "source": [
    "# Person 클래스의 인스턴스 p1과 p2를 생성해봅시다.\n",
    "# 두 인스턴스의 type을 출력하고\n",
    "# 우리가 위에서 정의한 doc를 p1.__doc__, p2.__doc__ 속성을 통해 출력해봅시다."
   ]
  },
  {
   "cell_type": "code",
   "execution_count": 16,
   "metadata": {},
   "outputs": [
    {
     "name": "stdout",
     "output_type": "stream",
     "text": [
      "\n",
      "    이 클래스는 사람을 분류하는 'Person' 클래스입니다.\n",
      "    \n",
      "\n",
      "    이 클래스는 사람을 분류하는 'Person' 클래스입니다.\n",
      "    \n"
     ]
    }
   ],
   "source": [
    "p1 = Person()\n",
    "p2 = Person()\n",
    "# ...\n",
    "\n",
    "print(p1.__doc__)\n",
    "print(p2.__doc__)"
   ]
  },
  {
   "cell_type": "markdown",
   "metadata": {},
   "source": [
    "## 메서드(Method) 정의\n",
    "\n",
    "특정 데이터 타입(또는 클래스)의 객체에 공통적으로 적용 가능한 행위(behavior)들을 의미합니다.\n",
    "\n",
    "---\n",
    "**활용법**\n",
    "```python\n",
    "class Person:\n",
    "    # 메서드(method)\n",
    "    def talk(self):    # 인자로 self를 정의해봅시다.\n",
    "        print('안녕')\n",
    "```"
   ]
  },
  {
   "cell_type": "code",
   "execution_count": null,
   "metadata": {},
   "outputs": [],
   "source": [
    "# 위와 똑같이 Person 클래스와 talk() 메서드를 정의해봅시다."
   ]
  },
  {
   "cell_type": "code",
   "execution_count": 18,
   "metadata": {},
   "outputs": [],
   "source": [
    "class Person:\n",
    "    def talk(self):\n",
    "        print('안녕')"
   ]
  },
  {
   "cell_type": "code",
   "execution_count": 19,
   "metadata": {},
   "outputs": [],
   "source": [
    "# Person 클래스의 인스턴스 p1, p2를 생성하고 각각 talk 메서드를 실행해봅시다"
   ]
  },
  {
   "cell_type": "code",
   "execution_count": 20,
   "metadata": {},
   "outputs": [
    {
     "name": "stdout",
     "output_type": "stream",
     "text": [
      "안녕\n",
      "안녕\n"
     ]
    }
   ],
   "source": [
    "p1 = Person()\n",
    "p2 = Person()\n",
    "\n",
    "p1.talk()\n",
    "p2.talk()\n",
    "# p3.talk()"
   ]
  },
  {
   "cell_type": "code",
   "execution_count": null,
   "metadata": {},
   "outputs": [],
   "source": [
    "# 메서드도 함수이기 때문에 추가적인 인자를 받을 수 있습니다.\n",
    "# Person 클래스를 재정의 하며 talk() 메서드를 정의하고, eat() 메서드를 추가로 정의해봅시다.\n",
    "# eat() 메서드는 food 라는 이름의 인자를 받아서 출력합니다.\n",
    "# 추가적인 인자를 받기 위해서는 아래와 같은 모습으로 코드가 작성되어야 합니다."
   ]
  },
  {
   "cell_type": "markdown",
   "metadata": {},
   "source": [
    "```python\n",
    "class MyClass:\n",
    "    def method1(self):\n",
    "        print('Hi')\n",
    "    \n",
    "    def method2(self, arg):\n",
    "        print(arg)\n",
    "```"
   ]
  },
  {
   "cell_type": "code",
   "execution_count": 21,
   "metadata": {},
   "outputs": [],
   "source": [
    "class Person:\n",
    "    def talk(self):\n",
    "        print('안녕')\n",
    "    \n",
    "    def eat(self, food):\n",
    "        print(f'냠냠, {food} 맛있다.')"
   ]
  },
  {
   "cell_type": "code",
   "execution_count": null,
   "metadata": {},
   "outputs": [],
   "source": [
    "# Person 클래스의 인스턴스 p1을 생성하고 eat() 메서드를 인자와 함께 호출해봅시다."
   ]
  },
  {
   "cell_type": "code",
   "execution_count": 22,
   "metadata": {},
   "outputs": [],
   "source": [
    "jason = Person()"
   ]
  },
  {
   "cell_type": "code",
   "execution_count": 23,
   "metadata": {},
   "outputs": [
    {
     "name": "stdout",
     "output_type": "stream",
     "text": [
      "냠냠, 김밥 맛있다.\n",
      "냠냠, 햄버거 맛있다.\n",
      "냠냠, 연어초밥 맛있다.\n"
     ]
    }
   ],
   "source": [
    "jason.eat('김밥')\n",
    "jason.eat('햄버거')\n",
    "jason.eat('연어초밥')"
   ]
  },
  {
   "cell_type": "code",
   "execution_count": null,
   "metadata": {},
   "outputs": [],
   "source": [
    "# 기본 인자, 가변 인자 리스트 등 함수의 인자와 동일하게 매개변수를 정의할 수 있습니다.\n",
    "# Person 클래스를 재정의하며, eat() 메서드를 정의할 때 food 인자의 기본 값을 원하는 음식으로 설정해봅시다."
   ]
  },
  {
   "cell_type": "code",
   "execution_count": 24,
   "metadata": {},
   "outputs": [],
   "source": [
    "class Person:\n",
    "    def talk(self):\n",
    "        print('안녕')\n",
    "    \n",
    "    def eat(self, food='치킨 먹고싶다..'):\n",
    "        print(f'냠냠 {food}')"
   ]
  },
  {
   "cell_type": "code",
   "execution_count": 25,
   "metadata": {},
   "outputs": [],
   "source": [
    "# Person 클래스의 인스턴스 p1을 생성하고, eat() 메서드를 인자 있이/없이 두번 호출해봅시다."
   ]
  },
  {
   "cell_type": "code",
   "execution_count": 26,
   "metadata": {},
   "outputs": [
    {
     "name": "stdout",
     "output_type": "stream",
     "text": [
      "냠냠 치킨 먹고싶다..\n",
      "냠냠 치킨\n"
     ]
    }
   ],
   "source": [
    "p1 = Person()\n",
    "p1.eat()\n",
    "p1.eat('치킨')"
   ]
  },
  {
   "cell_type": "markdown",
   "metadata": {},
   "source": [
    "##  `self` \n",
    "\n",
    "> 인스턴스 자신(self)\n",
    "\n",
    "* Python에서 인스턴스 메서드는 **호출 시 첫번째 인자로 인스턴스 자신이 전달**되게 설계되었습니다. \n",
    "\n",
    "\n",
    "* 보통 매개변수명으로 `self`를 첫번째 인자로 정의 (다른 이름도 가능하지만 추천하지는 않습니다.)"
   ]
  },
  {
   "cell_type": "code",
   "execution_count": 27,
   "metadata": {},
   "outputs": [],
   "source": [
    "# 아래의 Person 클래스를 통해서 self가 무엇인지 확인해봅시다.\n",
    "class Person:\n",
    "    \n",
    "    def test(self):\n",
    "        print(self)"
   ]
  },
  {
   "cell_type": "code",
   "execution_count": 28,
   "metadata": {},
   "outputs": [],
   "source": [
    "# Person 클래스의 인스턴스 p1을 생성하고 test() 메서드를 호출하여 self를 확인해봅시다."
   ]
  },
  {
   "cell_type": "code",
   "execution_count": 29,
   "metadata": {},
   "outputs": [],
   "source": [
    "jason = Person()"
   ]
  },
  {
   "cell_type": "code",
   "execution_count": 34,
   "metadata": {},
   "outputs": [
    {
     "name": "stdout",
     "output_type": "stream",
     "text": [
      "<__main__.Person object at 0x000001B89A3AA200>\n"
     ]
    }
   ],
   "source": [
    "jason.test()"
   ]
  },
  {
   "cell_type": "code",
   "execution_count": null,
   "metadata": {},
   "outputs": [],
   "source": [
    "# p1을 출력하여 비교해봅시다."
   ]
  },
  {
   "cell_type": "code",
   "execution_count": 35,
   "metadata": {},
   "outputs": [
    {
     "name": "stdout",
     "output_type": "stream",
     "text": [
      "1892373144064\n"
     ]
    }
   ],
   "source": [
    "print(id(jason))"
   ]
  },
  {
   "cell_type": "code",
   "execution_count": 31,
   "metadata": {},
   "outputs": [],
   "source": [
    "# 참고 -> 항상 인스턴스를 생성해서 메서드를 호출 할 때는 인스턴스 자신이 첫 번째 인자로 넘어간다. \n",
    "\n",
    "class Person:\n",
    "    def eat(food):\n",
    "        print(f'{food} 맛있다.')"
   ]
  },
  {
   "cell_type": "code",
   "execution_count": 32,
   "metadata": {},
   "outputs": [],
   "source": [
    "silver = Person()"
   ]
  },
  {
   "cell_type": "code",
   "execution_count": 33,
   "metadata": {},
   "outputs": [
    {
     "name": "stdout",
     "output_type": "stream",
     "text": [
      "<__main__.Person object at 0x000001B89A2EDC60> 맛있다.\n"
     ]
    }
   ],
   "source": [
    "silver.eat()"
   ]
  },
  {
   "cell_type": "markdown",
   "metadata": {},
   "source": [
    "### 생성자(constructor) 메서드\n",
    "인스턴스 객체가 생성될 때 호출되는 함수. 반드시 `__init__` 이라는 이름으로 정의.\n",
    "\n",
    "---\n",
    "**활용법**\n",
    "\n",
    "```python\n",
    "class MyClass:\n",
    "    def __init__(self):\n",
    "        print('생성될 때 자동으로 호출되는 메서드입니다.')\n",
    "```\n",
    "\n",
    "- 생성자를 활용하면 인스턴스가 생성될 때 인스턴스의 속성을 정의할 수 있습니다.\n"
   ]
  },
  {
   "cell_type": "code",
   "execution_count": 36,
   "metadata": {},
   "outputs": [],
   "source": [
    "class Person:\n",
    "    def __init__(self, name):\n",
    "        self.name = name\n",
    "    \n",
    "    def talk(self):\n",
    "        print(f'I am {self.name}')"
   ]
  },
  {
   "cell_type": "code",
   "execution_count": null,
   "metadata": {},
   "outputs": [],
   "source": [
    "# 자신의 이름을 인자로 넘기며 Person의 인스턴스 p1를 생성해봅시다."
   ]
  },
  {
   "cell_type": "code",
   "execution_count": 38,
   "metadata": {},
   "outputs": [],
   "source": [
    "p1 = Person('john')"
   ]
  },
  {
   "cell_type": "code",
   "execution_count": 39,
   "metadata": {},
   "outputs": [],
   "source": [
    "# talk() 메서드를 호출해 봅시다."
   ]
  },
  {
   "cell_type": "code",
   "execution_count": 41,
   "metadata": {},
   "outputs": [
    {
     "name": "stdout",
     "output_type": "stream",
     "text": [
      "I am john\n"
     ]
    }
   ],
   "source": [
    "p1.talk()"
   ]
  },
  {
   "cell_type": "code",
   "execution_count": 42,
   "metadata": {},
   "outputs": [
    {
     "name": "stdout",
     "output_type": "stream",
     "text": [
      "I am john\n"
     ]
    }
   ],
   "source": [
    "# talk 메서드를 클래스에서 메서드를 실행해봅시다. self는 정말 빈자리일까요?\n",
    "Person.talk(p1)"
   ]
  },
  {
   "cell_type": "markdown",
   "metadata": {},
   "source": [
    "### 소멸자(destructor) 메서드\n",
    "- 인스턴스 객체가 소멸(파괴)되기 직전에 호출되는 함수. 반드시 `__del__` 이라는 이름으로 정의.\n",
    "\n",
    "---\n",
    "\n",
    "**활용법**\n",
    "\n",
    "```python\n",
    "def __del__(self):\n",
    "    print('소멸될 때 자동으로 호출되는 메서드입니다.')\n",
    "```"
   ]
  },
  {
   "cell_type": "code",
   "execution_count": null,
   "metadata": {},
   "outputs": [],
   "source": [
    "# 생성자와 소멸자를 만들어봅시다.\n",
    "# 생성자 메서드는 __init__으로, 소멸자 메서드는 __del__라는 이름으로 정의합니다.\n",
    "class Person:\n",
    "    def __init__(self):\n",
    "        print('응애!')\n",
    "        \n",
    "    def __del__(self):\n",
    "        print('떠날게..')"
   ]
  },
  {
   "cell_type": "markdown",
   "metadata": {},
   "source": [
    "## 속성(Attribute) 정의\n",
    "\n",
    "특정 데이터 타입(또는 클래스)의 객체들이 가지게 될 상태/데이터를 의미합니다.\n",
    "\n",
    "`self.<속성명> = <값>` 혹은 `<인스턴스>.<속성명> = <값>`으로 설정합니다\n",
    "\n",
    "---\n",
    "**활용법**\n",
    "\n",
    "```python\n",
    "class Person:\n",
    "    def __init__(self, name):\n",
    "        self.name = name\n",
    "        \n",
    "    def talk(self):\n",
    "        print(f'안녕, 나는 {self.name}')\n",
    "```"
   ]
  },
  {
   "cell_type": "code",
   "execution_count": null,
   "metadata": {},
   "outputs": [],
   "source": [
    "# 인스턴스의 속성, 즉 개별 인스턴스들이 사용할 데이터를 정의해봅시다."
   ]
  },
  {
   "cell_type": "code",
   "execution_count": null,
   "metadata": {},
   "outputs": [],
   "source": [
    "class Person:\n",
    "    def __init__(self, name):\n",
    "        self.name = name\n",
    "        \n",
    "    def talk(self):\n",
    "        print(f'안녕, 나는 {self.name}')"
   ]
  },
  {
   "cell_type": "code",
   "execution_count": null,
   "metadata": {},
   "outputs": [],
   "source": [
    "# 속성 정의는 꼭 생성자(__init__) 메서드에 작성해야 하지는 않지만, 일반적으로 생성자 메서드에 많이 작성합니다.\n",
    "# 생성자 메서드를 통해 생성과 동시에 인스턴스 속성에 값을 할당할 수 있기 때문입니다.\n",
    "# 새로운 Person의 인스턴스 p1을 이름과 함께 초기화 하고, 이름을 출력해봅시다."
   ]
  },
  {
   "cell_type": "code",
   "execution_count": 43,
   "metadata": {},
   "outputs": [
    {
     "name": "stdout",
     "output_type": "stream",
     "text": [
      "jason\n"
     ]
    }
   ],
   "source": [
    "p1 = Person('jason')\n",
    "\n",
    "print(p1.name)"
   ]
  },
  {
   "cell_type": "code",
   "execution_count": null,
   "metadata": {},
   "outputs": [],
   "source": [
    "# 인스턴스 속성의 값을 변경할 수도 있습니다.\n",
    "# 위에서 생성한 p1 인스턴스의 name을 다른 값으로 할당해보고, talk 메서드를 실행해봅시다."
   ]
  },
  {
   "cell_type": "code",
   "execution_count": 44,
   "metadata": {},
   "outputs": [
    {
     "name": "stdout",
     "output_type": "stream",
     "text": [
      "silver\n",
      "I am silver\n"
     ]
    }
   ],
   "source": [
    "p1.name = 'silver'\n",
    "print(p1.name)\n",
    "\n",
    "p1.talk()"
   ]
  },
  {
   "cell_type": "code",
   "execution_count": null,
   "metadata": {},
   "outputs": [],
   "source": [
    "# 생성자 메서드도 함수이기 때문에, 인자의 개수가 맞지 않으면 에러가 발생합니다.\n",
    "# name인자 없이 새로운 Person의 인스턴스 p1을 생성해봅시다."
   ]
  },
  {
   "cell_type": "code",
   "execution_count": 45,
   "metadata": {},
   "outputs": [
    {
     "ename": "TypeError",
     "evalue": "Person.__init__() missing 1 required positional argument: 'name'",
     "output_type": "error",
     "traceback": [
      "\u001b[1;31m---------------------------------------------------------------------------\u001b[0m",
      "\u001b[1;31mTypeError\u001b[0m                                 Traceback (most recent call last)",
      "\u001b[1;32md:\\OneDrive\\STARTUP\\강의\\강의자료\\0_언어\\0_Python\\실습자료\\실습자료_filled\\4_1_함수와클래스_클래스.ipynb 셀 80\u001b[0m in \u001b[0;36m<cell line: 1>\u001b[1;34m()\u001b[0m\n\u001b[1;32m----> <a href='vscode-notebook-cell:/d%3A/OneDrive/STARTUP/%EA%B0%95%EC%9D%98/%EA%B0%95%EC%9D%98%EC%9E%90%EB%A3%8C/0_%EC%96%B8%EC%96%B4/0_Python/%EC%8B%A4%EC%8A%B5%EC%9E%90%EB%A3%8C/%EC%8B%A4%EC%8A%B5%EC%9E%90%EB%A3%8C_filled/4_1_%ED%95%A8%EC%88%98%EC%99%80%ED%81%B4%EB%9E%98%EC%8A%A4_%ED%81%B4%EB%9E%98%EC%8A%A4.ipynb#ch0000074?line=0'>1</a>\u001b[0m p1 \u001b[39m=\u001b[39m Person()\n",
      "\u001b[1;31mTypeError\u001b[0m: Person.__init__() missing 1 required positional argument: 'name'"
     ]
    }
   ],
   "source": [
    "p1 = Person() # name 매개변수에 매핑되는 인자를 넘겨주지 않음"
   ]
  },
  {
   "cell_type": "code",
   "execution_count": null,
   "metadata": {},
   "outputs": [],
   "source": [
    "# 위에서 생성한 인스턴스 p1을 del 연산자를 사용해 소멸시켜봅시다."
   ]
  },
  {
   "cell_type": "code",
   "execution_count": 46,
   "metadata": {},
   "outputs": [],
   "source": [
    "del p1"
   ]
  },
  {
   "cell_type": "markdown",
   "metadata": {},
   "source": [
    "## 매직(스페셜) 메서드\n",
    "- 더블언더스코어(`__`)가 있는 메서드는 특별한 일을 하기 위해 만들어진 메서드이기 때문에 `스페셜 메서드` 혹은 `매직 메서드`라고 불립니다.\n",
    "- 매직(스페셜) 메서드 형태: `__someting__`\n",
    "```python\n",
    " '__str__(self)',\n",
    " '__len__(self)',\n",
    " '__repr__(self)',\n",
    " '__lt__(self, other)',\n",
    " '__le__(self, other)',\n",
    " '__eq__(self, other)',\n",
    " '__ne__(self, other)',\n",
    " '__gt__(self, other)',\n",
    " '__ge__(self, other)',\n",
    "```"
   ]
  },
  {
   "cell_type": "markdown",
   "metadata": {},
   "source": [
    "### `__str__(self)` \n",
    "\n",
    "```python\n",
    "class Person:\n",
    "    def __str__(self):\n",
    "        return '객체 출력(print)시 보여줄 내용'\n",
    "```\n",
    "\n",
    "- 특정 객체를 출력(`print()`) 할 때 보여줄 내용을 정의할 수 있습니다."
   ]
  },
  {
   "cell_type": "code",
   "execution_count": null,
   "metadata": {},
   "outputs": [],
   "source": [
    "# dir() 함수를 통해 문자열 인스턴스가 활용 가능한 메서드를 확인해봅시다."
   ]
  },
  {
   "cell_type": "code",
   "execution_count": 47,
   "metadata": {},
   "outputs": [
    {
     "data": {
      "text/plain": [
       "['__add__',\n",
       " '__class__',\n",
       " '__contains__',\n",
       " '__delattr__',\n",
       " '__dir__',\n",
       " '__doc__',\n",
       " '__eq__',\n",
       " '__format__',\n",
       " '__ge__',\n",
       " '__getattribute__',\n",
       " '__getitem__',\n",
       " '__getnewargs__',\n",
       " '__gt__',\n",
       " '__hash__',\n",
       " '__init__',\n",
       " '__init_subclass__',\n",
       " '__iter__',\n",
       " '__le__',\n",
       " '__len__',\n",
       " '__lt__',\n",
       " '__mod__',\n",
       " '__mul__',\n",
       " '__ne__',\n",
       " '__new__',\n",
       " '__reduce__',\n",
       " '__reduce_ex__',\n",
       " '__repr__',\n",
       " '__rmod__',\n",
       " '__rmul__',\n",
       " '__setattr__',\n",
       " '__sizeof__',\n",
       " '__str__',\n",
       " '__subclasshook__',\n",
       " 'capitalize',\n",
       " 'casefold',\n",
       " 'center',\n",
       " 'count',\n",
       " 'encode',\n",
       " 'endswith',\n",
       " 'expandtabs',\n",
       " 'find',\n",
       " 'format',\n",
       " 'format_map',\n",
       " 'index',\n",
       " 'isalnum',\n",
       " 'isalpha',\n",
       " 'isascii',\n",
       " 'isdecimal',\n",
       " 'isdigit',\n",
       " 'isidentifier',\n",
       " 'islower',\n",
       " 'isnumeric',\n",
       " 'isprintable',\n",
       " 'isspace',\n",
       " 'istitle',\n",
       " 'isupper',\n",
       " 'join',\n",
       " 'ljust',\n",
       " 'lower',\n",
       " 'lstrip',\n",
       " 'maketrans',\n",
       " 'partition',\n",
       " 'removeprefix',\n",
       " 'removesuffix',\n",
       " 'replace',\n",
       " 'rfind',\n",
       " 'rindex',\n",
       " 'rjust',\n",
       " 'rpartition',\n",
       " 'rsplit',\n",
       " 'rstrip',\n",
       " 'split',\n",
       " 'splitlines',\n",
       " 'startswith',\n",
       " 'strip',\n",
       " 'swapcase',\n",
       " 'title',\n",
       " 'translate',\n",
       " 'upper',\n",
       " 'zfill']"
      ]
     },
     "execution_count": 47,
     "metadata": {},
     "output_type": "execute_result"
    }
   ],
   "source": [
    "dir('')"
   ]
  },
  {
   "cell_type": "code",
   "execution_count": null,
   "metadata": {},
   "outputs": [],
   "source": [
    "# Person 클래스를 정의해봅시다."
   ]
  },
  {
   "cell_type": "code",
   "execution_count": null,
   "metadata": {},
   "outputs": [],
   "source": [
    "class Person:\n",
    "    def __init__(self, name):\n",
    "        self.name = name"
   ]
  },
  {
   "cell_type": "code",
   "execution_count": null,
   "metadata": {},
   "outputs": [],
   "source": [
    "# Person의 인스턴스 p1을 생성 후 출력해봅시다."
   ]
  },
  {
   "cell_type": "code",
   "execution_count": 48,
   "metadata": {},
   "outputs": [
    {
     "name": "stdout",
     "output_type": "stream",
     "text": [
      "<__main__.Person object at 0x000001B899176650>\n"
     ]
    }
   ],
   "source": [
    "p1 = Person('john')\n",
    "print(p1)"
   ]
  },
  {
   "cell_type": "code",
   "execution_count": null,
   "metadata": {},
   "outputs": [],
   "source": [
    "# __str__() 매직메서드는 아래와 같이 정의합니다."
   ]
  },
  {
   "cell_type": "code",
   "execution_count": 49,
   "metadata": {},
   "outputs": [],
   "source": [
    "class Person:\n",
    "    def __init__(self, name):\n",
    "        self.name = name\n",
    "    \n",
    "    def __str__(self):\n",
    "        return f'나는 {self.name}'"
   ]
  },
  {
   "cell_type": "code",
   "execution_count": null,
   "metadata": {},
   "outputs": [],
   "source": [
    "# 새로운 인스턴스 p2를 생성후 p2를 출력해봅시다."
   ]
  },
  {
   "cell_type": "code",
   "execution_count": 50,
   "metadata": {},
   "outputs": [],
   "source": [
    "p2 = Person('jason')"
   ]
  },
  {
   "cell_type": "code",
   "execution_count": 51,
   "metadata": {},
   "outputs": [
    {
     "name": "stdout",
     "output_type": "stream",
     "text": [
      "나는 jason\n"
     ]
    }
   ],
   "source": [
    "print(p2)"
   ]
  },
  {
   "cell_type": "markdown",
   "metadata": {},
   "source": [
    "## 실습\n",
    "\n",
    "> 매직메서드를 활용하여 인스턴스간의 비교연산(`>`, `==`)이 가능하도록 매직메서드를 정의해봅시다.\n",
    ">\n",
    "> `Person` 클래스를 정의합니다. 인스턴스 속성은 `name` 과 `age`를 가지며, 인스턴스간 `age` 비교가 가능해야합니다.\n",
    ">\n",
    "> `__gt__`메서드와 `__eq__`메서드를 활용합니다."
   ]
  },
  {
   "cell_type": "code",
   "execution_count": null,
   "metadata": {},
   "outputs": [],
   "source": [
    "# 실습"
   ]
  },
  {
   "cell_type": "code",
   "execution_count": 52,
   "metadata": {},
   "outputs": [],
   "source": [
    "class Person:\n",
    "    \n",
    "    def __init__(self, name, age):\n",
    "        self.name = name\n",
    "        self.age = age\n",
    "    \n",
    "    def __str__(self):\n",
    "        return f'{self.name}의 나이는 {self.age}입니다.'\n",
    "    \n",
    "    def __gt__(self, other):\n",
    "        print(self)\n",
    "        print(other)\n",
    "        return self.age > other.age\n",
    "    \n",
    "    def __eq__(self, other):\n",
    "        return self.age == other.age"
   ]
  },
  {
   "cell_type": "code",
   "execution_count": 53,
   "metadata": {},
   "outputs": [
    {
     "name": "stdout",
     "output_type": "stream",
     "text": [
      "1의 나이는 1입니다.\n",
      "2의 나이는 2입니다.\n",
      "False\n",
      "True\n",
      "False\n"
     ]
    }
   ],
   "source": [
    "# 아래 코드가 정상 동작하도록 해봅시다.\n",
    "p1 = Person('1', 1)\n",
    "p2 = Person('2', 2)\n",
    "p3 = Person('3', 1)\n",
    "\n",
    "print(p1 > p2)\n",
    "print(p1 == p3)\n",
    "print(p1 == p2)"
   ]
  },
  {
   "cell_type": "markdown",
   "metadata": {},
   "source": [
    "# 정리\n",
    "\n",
    "## 객체(Object)\n",
    "- 객체는 자신 고유의 **속성(attribute)** 을 가지며 클래스에서 정의한 **행위(behavior)** 를 수행\n",
    "\n",
    "## 클래스(Class) \n",
    "- 공통된 속성(attribute)과 행위(behavior)를 정의한 것으로 객체지향 프로그램의 기본적인 **사용자 정의 데이터형(user-defined data type)**\n",
    "\n",
    "## 인스턴스(Instance) \n",
    "- 특정 `class`로부터 생성된 해당 클래스의 실체/예시(instance) \n",
    "\n",
    "## 속성(Attribute) \n",
    "- 클래스/인스턴스가 가지는 속성(값/데이터)\n",
    "\n",
    "## 메서드(Method) \n",
    "-  클래스/인스턴스에 적용 가능한 조작법(method) & 클래스/인스턴스가 할 수 있는 행위(함수)"
   ]
  },
  {
   "cell_type": "code",
   "execution_count": null,
   "metadata": {},
   "outputs": [],
   "source": []
  },
  {
   "cell_type": "markdown",
   "metadata": {},
   "source": [
    "<p style=\"font-size: 33px; font-weight: 700; margin-bottom: 3rem\">OOP II</p>\n",
    "\n",
    "- 인스턴스 & 클래스 변수\n",
    "- 인스턴스 & 클래스간의 이름공간\n",
    "- 인스턴스 & 클래스 메서드(+ 스태틱 메서드)"
   ]
  },
  {
   "cell_type": "markdown",
   "metadata": {},
   "source": [
    "# 인스턴스 & 클래스 변수"
   ]
  },
  {
   "cell_type": "markdown",
   "metadata": {},
   "source": [
    "## 인스턴스 변수\n",
    "* 인스턴스의 속성(attribute)\n",
    "* 각 인스턴스들의 고유한 변수\n",
    "* 생성자 메서드에서 `self.변수명`로 정의\n",
    "* 인스턴스가 생성된 이후 `인스턴스.변수명`로 접근 및 할당\n",
    "\n",
    "---\n",
    "**활용법**\n",
    "    \n",
    "```python\n",
    "class Person:\n",
    "\n",
    "    def __init__(self, name):    # 인스턴스 메서드 (생성자) \n",
    "        self.name = name         # 인스턴스 변수\n",
    "```"
   ]
  },
  {
   "cell_type": "code",
   "execution_count": null,
   "metadata": {},
   "outputs": [],
   "source": [
    "# 위와 같은 Person 클래스를 똑같이 정의해봅시다."
   ]
  },
  {
   "cell_type": "code",
   "execution_count": 54,
   "metadata": {},
   "outputs": [],
   "source": [
    "class Person:\n",
    "\n",
    "    def __init__(self, name):    \n",
    "        self.name = name  "
   ]
  },
  {
   "cell_type": "code",
   "execution_count": null,
   "metadata": {},
   "outputs": [],
   "source": [
    "# Person 클래스의 인스턴스 me, you를 각각 이름과 함께 생성하고, name 속성을 출력해봅시다."
   ]
  },
  {
   "cell_type": "code",
   "execution_count": 55,
   "metadata": {},
   "outputs": [
    {
     "name": "stdout",
     "output_type": "stream",
     "text": [
      "jason\n",
      "silver\n"
     ]
    }
   ],
   "source": [
    "jason = Person('jason') # self는?? -> 자동으로 넘어간다!\n",
    "silver = Person('silver')\n",
    "\n",
    "print(jason.name)\n",
    "print(silver.name)"
   ]
  },
  {
   "cell_type": "markdown",
   "metadata": {},
   "source": [
    "## 클래스 변수\n",
    "* 클래스의 속성(attribute)\n",
    "* 모든 인스턴스가 공유\n",
    "* 클래스 선언 내부에서 정의\n",
    "* `클래스.변수명`으로 접근 및 할당\n",
    "\n",
    "---\n",
    "\n",
    "**활용법**\n",
    "```python\n",
    "class Circle:\n",
    "    pi = 3.14\n",
    "    \n",
    "print(Circle.pi)\n",
    "```"
   ]
  },
  {
   "cell_type": "code",
   "execution_count": null,
   "metadata": {},
   "outputs": [],
   "source": [
    "# 위의 예시 코드대로 Circle 클래스를 생성해봅시다."
   ]
  },
  {
   "cell_type": "code",
   "execution_count": 56,
   "metadata": {},
   "outputs": [],
   "source": [
    "class Circle:\n",
    "    pi = 3.14"
   ]
  },
  {
   "cell_type": "code",
   "execution_count": 57,
   "metadata": {},
   "outputs": [],
   "source": [
    "# Circle 클래스의 인스턴스 c1, c2를 생성해봅시다."
   ]
  },
  {
   "cell_type": "code",
   "execution_count": 58,
   "metadata": {},
   "outputs": [],
   "source": [
    "c1 = Circle()\n",
    "c2 = Circle()"
   ]
  },
  {
   "cell_type": "code",
   "execution_count": 59,
   "metadata": {},
   "outputs": [],
   "source": [
    "# 클래스 변수 pi에 접근해봅시다."
   ]
  },
  {
   "cell_type": "code",
   "execution_count": 60,
   "metadata": {},
   "outputs": [
    {
     "data": {
      "text/plain": [
       "3.14"
      ]
     },
     "execution_count": 60,
     "metadata": {},
     "output_type": "execute_result"
    }
   ],
   "source": [
    "Circle.pi"
   ]
  },
  {
   "cell_type": "code",
   "execution_count": 61,
   "metadata": {},
   "outputs": [],
   "source": [
    "# 인스턴스 c1, c2에서 pi 값을 출력해봅시다."
   ]
  },
  {
   "cell_type": "code",
   "execution_count": 62,
   "metadata": {},
   "outputs": [
    {
     "name": "stdout",
     "output_type": "stream",
     "text": [
      "3.14\n",
      "3.14\n"
     ]
    }
   ],
   "source": [
    "print(c1.pi)\n",
    "print(c2.pi)"
   ]
  },
  {
   "cell_type": "code",
   "execution_count": null,
   "metadata": {},
   "outputs": [],
   "source": [
    "# c1의 pi 값을 3.141592로 변경하여 봅시다."
   ]
  },
  {
   "cell_type": "code",
   "execution_count": 63,
   "metadata": {},
   "outputs": [],
   "source": [
    "c1.pi = 3.141592"
   ]
  },
  {
   "cell_type": "code",
   "execution_count": null,
   "metadata": {},
   "outputs": [],
   "source": [
    "# c1, c2에서의 pi값을 각각 출력해봅시다."
   ]
  },
  {
   "cell_type": "code",
   "execution_count": 64,
   "metadata": {},
   "outputs": [
    {
     "name": "stdout",
     "output_type": "stream",
     "text": [
      "3.141592\n",
      "3.14\n"
     ]
    }
   ],
   "source": [
    "print(c1.pi)\n",
    "print(c2.pi)"
   ]
  },
  {
   "cell_type": "code",
   "execution_count": null,
   "metadata": {},
   "outputs": [],
   "source": [
    "# Circle의 pi를 출력해봅시다."
   ]
  },
  {
   "cell_type": "code",
   "execution_count": 65,
   "metadata": {},
   "outputs": [
    {
     "name": "stdout",
     "output_type": "stream",
     "text": [
      "3.14\n"
     ]
    }
   ],
   "source": [
    "# \n",
    "print(Circle.pi)"
   ]
  },
  {
   "cell_type": "markdown",
   "metadata": {},
   "source": [
    "# 인스턴스 & 클래스간의 이름공간\n",
    "\n",
    "## 이름공간 탐색 순서\n",
    "\n",
    "* 클래스를 정의하면, 클래스가 생성됨과 동시에 이름 공간(namespace)이 생성됩니다. \n",
    "\n",
    "\n",
    "* 인스턴스를 만들게 되면, 인스턴스 객체가 생성되고 해당되는 이름 공간이 생성됩니다.\n",
    "\n",
    "\n",
    "* 인스턴스의 어트리뷰트가 변경되면, 변경된 데이터를 인스턴스 객체 이름 공간에 저장합니다.\n",
    "\n",
    "\n",
    "* 즉, 인스턴스에서 특정한 어트리뷰트에 접근하게 되면 **인스턴스 => 클래스** 순으로 탐색을 합니다."
   ]
  },
  {
   "cell_type": "code",
   "execution_count": 66,
   "metadata": {},
   "outputs": [],
   "source": [
    "class Person:\n",
    "    name = 'unknwon'"
   ]
  },
  {
   "cell_type": "code",
   "execution_count": 67,
   "metadata": {},
   "outputs": [],
   "source": [
    "# Person 클래스의 인스턴스 p1을 생성하고 name을 확인해봅시다."
   ]
  },
  {
   "cell_type": "code",
   "execution_count": 68,
   "metadata": {},
   "outputs": [
    {
     "data": {
      "text/plain": [
       "'unknwon'"
      ]
     },
     "execution_count": 68,
     "metadata": {},
     "output_type": "execute_result"
    }
   ],
   "source": [
    "p1 = Person()\n",
    "p1.name"
   ]
  },
  {
   "cell_type": "code",
   "execution_count": 69,
   "metadata": {},
   "outputs": [],
   "source": [
    "# p1의 name 속성을 직접 변경하고 확인해봅시다."
   ]
  },
  {
   "cell_type": "code",
   "execution_count": 70,
   "metadata": {},
   "outputs": [
    {
     "name": "stdout",
     "output_type": "stream",
     "text": [
      "Jack\n",
      "unknwon\n"
     ]
    }
   ],
   "source": [
    "p1.name = 'Jack'\n",
    "print(p1.name) #=> 인스턴스의 name\n",
    "print(Person.name) #=> 클래스의 name"
   ]
  },
  {
   "cell_type": "markdown",
   "metadata": {},
   "source": [
    "* **class와 instance는 서로 다른 namespace를 가지고 있습니다.**\n",
    "* **인스턴스에 해당 이름이 없으면 클래스에서 탐색을 합니다.**"
   ]
  },
  {
   "cell_type": "code",
   "execution_count": null,
   "metadata": {},
   "outputs": [],
   "source": [
    "%%html\n",
    "<iframe width=\"800\" height=\"500\" frameborder=\"0\" src=\"http://pythontutor.com/iframe-embed.html#code=class%20Person%3A%0A%20%20%20%20name%20%3D%20'unknown'%0A%0Ap2%20%3D%20Person%28%29%0Aprint%28p2.name%29%0Ap2.name%20%3D%20'Jack'%0Aprint%28p2.name%29%0Aprint%28Person.name%29&codeDivHeight=400&codeDivWidth=350&cumulative=false&curInstr=0&heapPrimitives=nevernest&origin=opt-frontend.js&py=3&rawInputLstJSON=%5B%5D&textReferences=false\"> </iframe>"
   ]
  },
  {
   "cell_type": "markdown",
   "metadata": {},
   "source": [
    "# 메서드의 종류\n",
    "\n",
    "## 인스턴스 메서드(instance method)\n",
    "* 인스턴스가 사용할 메서드\n",
    "* 클래스 내부에 정의되는 메서드의 기본값은 인스턴스 메서드\n",
    "* **호출시, 첫번째 인자로 인스턴스 자기자신 `self`가 전달됩니다**\n",
    "\n",
    "---\n",
    "\n",
    "**활용법**\n",
    "\n",
    "```python\n",
    "class MyClass:\n",
    "    def instance_method(self, arg1, arg2, ...):\n",
    "        ...\n",
    "\n",
    "my_instance = MyClass()\n",
    "# 인스턴스 생성 후 메서드를 호출하면 자동으로 첫 번째 인자로 인스턴스(my_instance)가 들어갑니다.\n",
    "my_instance.instance_method(.., ..)  \n",
    "```"
   ]
  },
  {
   "cell_type": "markdown",
   "metadata": {},
   "source": [
    "## 클래스 메서드(class method)\n",
    "* 클래스가 사용할 메서드\n",
    "* `@classmethod` 데코레이터를 사용하여 정의\n",
    "* **호출시, 첫 번째 인자로 클래스 `cls`가 전달됩니다**\n",
    "\n",
    "---\n",
    "\n",
    "**활용법**\n",
    "\n",
    "```python\n",
    "class MyClass:\n",
    "    @classmethod\n",
    "    def class_method(cls, arg1, arg2, ...):\n",
    "        ...\n",
    "\n",
    "# 자동으로 첫 번째 인자로 클래스(MyClass)가 들어갑니다.\n",
    "MyClass.class_method(.., ..)  \n",
    "```"
   ]
  },
  {
   "cell_type": "markdown",
   "metadata": {},
   "source": [
    "## 스태틱 메서드(static method)\n",
    "* 클래스가 사용할 메서드\n",
    "* `@staticmethod` 데코레이터를 사용하여 정의\n",
    "* **호출시, 어떠한 인자도 전달되지 않습니다**\n",
    "\n",
    "\n",
    "---\n",
    "\n",
    "**활용법**\n",
    "\n",
    "```python\n",
    "class MyClass:\n",
    "    @staticmethod\n",
    "    def static_method(arg1, arg2, ...):\n",
    "        ...\n",
    "\n",
    "# 아무런 일도 자동으로 일어나지 않습니다.\n",
    "MyClass.static_method(.., ..)\n",
    "```"
   ]
  },
  {
   "cell_type": "code",
   "execution_count": 71,
   "metadata": {},
   "outputs": [],
   "source": [
    "# MyClass 클래스를 정의해 두었습니다.\n",
    "class MyClass:\n",
    "    def instance_method(self):\n",
    "        return self\n",
    "    \n",
    "    @classmethod\n",
    "    def class_method(cls):\n",
    "        return cls\n",
    "    \n",
    "    @staticmethod\n",
    "    def static_method(arg):\n",
    "        return arg"
   ]
  },
  {
   "cell_type": "code",
   "execution_count": 72,
   "metadata": {},
   "outputs": [],
   "source": [
    "# MyClass 클래스의 인스턴스 mc를 생성해봅시다."
   ]
  },
  {
   "cell_type": "code",
   "execution_count": 73,
   "metadata": {},
   "outputs": [],
   "source": [
    "mc = MyClass() # 클래스 -> 인스턴스 생성"
   ]
  },
  {
   "cell_type": "code",
   "execution_count": null,
   "metadata": {},
   "outputs": [],
   "source": [
    "# 인스턴스 메서드를 호출하여 반환된 결과(self)와 인스턴스(mc)를 비교해봅시다.\n",
    "# 1. id를 출력해 보고, 같은 id인지 확인\n",
    "# 2. == 연산자를 확인해 비교"
   ]
  },
  {
   "cell_type": "code",
   "execution_count": 74,
   "metadata": {},
   "outputs": [
    {
     "name": "stdout",
     "output_type": "stream",
     "text": [
      "1892372772320 1892372772320\n",
      "True\n"
     ]
    }
   ],
   "source": [
    "print(id(mc.instance_method()), id(mc))\n",
    "print(mc.instance_method() == mc)"
   ]
  },
  {
   "cell_type": "code",
   "execution_count": null,
   "metadata": {},
   "outputs": [],
   "source": [
    "# 클래스 메서드를 호출하여 반환된 결과(cls)와 인스턴스(mc)를 비교해봅시다.\n",
    "# 1. id를 출력해 보고, 같은 id인지 확인\n",
    "# 2. == 연산자를 확인해 비교"
   ]
  },
  {
   "cell_type": "code",
   "execution_count": 75,
   "metadata": {},
   "outputs": [
    {
     "name": "stdout",
     "output_type": "stream",
     "text": [
      "1892339076624 1892339076624\n",
      "True\n"
     ]
    }
   ],
   "source": [
    "print(id(MyClass.class_method()), id(MyClass))\n",
    "print(MyClass.class_method() == MyClass)"
   ]
  },
  {
   "cell_type": "code",
   "execution_count": null,
   "metadata": {},
   "outputs": [],
   "source": [
    "# 스태틱 메서드를 호출하고 반환된 결과(arg)를 확인해봅시다.\n",
    "# 어떠한 인자도 전달되는 것이 없습니다."
   ]
  },
  {
   "cell_type": "code",
   "execution_count": 76,
   "metadata": {},
   "outputs": [
    {
     "name": "stdout",
     "output_type": "stream",
     "text": [
      "1\n"
     ]
    }
   ],
   "source": [
    "print(MyClass.static_method(1))"
   ]
  },
  {
   "cell_type": "markdown",
   "metadata": {},
   "source": [
    "## 비교 정리"
   ]
  },
  {
   "cell_type": "markdown",
   "metadata": {},
   "source": [
    "### 인스턴스와 메서드\n",
    "- 인스턴스는 3가지 메서드 모두에 접근할 수 있습니다.\n",
    "- 하지만, 인스턴스가 할 행동은 모두 인스턴스 메서드로 한정 지어서 설계합니다.\n",
    "- 인스턴스에서 클래스 메서드와 스태틱 메서드는 되도록 호출하지 않아야 합니다. (가능하다 != 사용한다)\n"
   ]
  },
  {
   "cell_type": "code",
   "execution_count": null,
   "metadata": {},
   "outputs": [],
   "source": [
    "# 위의 MyClass를 활용하여 클래스 입장에서 확인해봅시다."
   ]
  },
  {
   "cell_type": "code",
   "execution_count": null,
   "metadata": {},
   "outputs": [],
   "source": [
    "# 클래스 메서드를 호출해봅시다."
   ]
  },
  {
   "cell_type": "code",
   "execution_count": 77,
   "metadata": {},
   "outputs": [
    {
     "data": {
      "text/plain": [
       "__main__.MyClass"
      ]
     },
     "execution_count": 77,
     "metadata": {},
     "output_type": "execute_result"
    }
   ],
   "source": [
    "MyClass.class_method()"
   ]
  },
  {
   "cell_type": "code",
   "execution_count": 78,
   "metadata": {},
   "outputs": [],
   "source": [
    "# 스태틱 메서드를 호출해봅시다."
   ]
  },
  {
   "cell_type": "code",
   "execution_count": 79,
   "metadata": {},
   "outputs": [
    {
     "ename": "TypeError",
     "evalue": "MyClass.static_method() missing 1 required positional argument: 'arg'",
     "output_type": "error",
     "traceback": [
      "\u001b[1;31m---------------------------------------------------------------------------\u001b[0m",
      "\u001b[1;31mTypeError\u001b[0m                                 Traceback (most recent call last)",
      "\u001b[1;32md:\\OneDrive\\STARTUP\\강의\\강의자료\\0_언어\\0_Python\\실습자료\\실습자료_filled\\4_1_함수와클래스_클래스.ipynb 셀 150\u001b[0m in \u001b[0;36m<cell line: 1>\u001b[1;34m()\u001b[0m\n\u001b[1;32m----> <a href='vscode-notebook-cell:/d%3A/OneDrive/STARTUP/%EA%B0%95%EC%9D%98/%EA%B0%95%EC%9D%98%EC%9E%90%EB%A3%8C/0_%EC%96%B8%EC%96%B4/0_Python/%EC%8B%A4%EC%8A%B5%EC%9E%90%EB%A3%8C/%EC%8B%A4%EC%8A%B5%EC%9E%90%EB%A3%8C_filled/4_1_%ED%95%A8%EC%88%98%EC%99%80%ED%81%B4%EB%9E%98%EC%8A%A4_%ED%81%B4%EB%9E%98%EC%8A%A4.ipynb#ch0000143?line=0'>1</a>\u001b[0m MyClass\u001b[39m.\u001b[39;49mstatic_method()\n",
      "\u001b[1;31mTypeError\u001b[0m: MyClass.static_method() missing 1 required positional argument: 'arg'"
     ]
    }
   ],
   "source": [
    "MyClass.static_method()"
   ]
  },
  {
   "cell_type": "code",
   "execution_count": null,
   "metadata": {},
   "outputs": [],
   "source": [
    "# 클래스로 인스턴스 메서드를 호출해봅시다.\n",
    "# MyClass.instance_method(mc)는 mc.instance_method()와 같습니다."
   ]
  },
  {
   "cell_type": "code",
   "execution_count": 80,
   "metadata": {},
   "outputs": [
    {
     "ename": "TypeError",
     "evalue": "MyClass.instance_method() missing 1 required positional argument: 'self'",
     "output_type": "error",
     "traceback": [
      "\u001b[1;31m---------------------------------------------------------------------------\u001b[0m",
      "\u001b[1;31mTypeError\u001b[0m                                 Traceback (most recent call last)",
      "\u001b[1;32md:\\OneDrive\\STARTUP\\강의\\강의자료\\0_언어\\0_Python\\실습자료\\실습자료_filled\\4_1_함수와클래스_클래스.ipynb 셀 152\u001b[0m in \u001b[0;36m<cell line: 1>\u001b[1;34m()\u001b[0m\n\u001b[1;32m----> <a href='vscode-notebook-cell:/d%3A/OneDrive/STARTUP/%EA%B0%95%EC%9D%98/%EA%B0%95%EC%9D%98%EC%9E%90%EB%A3%8C/0_%EC%96%B8%EC%96%B4/0_Python/%EC%8B%A4%EC%8A%B5%EC%9E%90%EB%A3%8C/%EC%8B%A4%EC%8A%B5%EC%9E%90%EB%A3%8C_filled/4_1_%ED%95%A8%EC%88%98%EC%99%80%ED%81%B4%EB%9E%98%EC%8A%A4_%ED%81%B4%EB%9E%98%EC%8A%A4.ipynb#ch0000145?line=0'>1</a>\u001b[0m \u001b[39mprint\u001b[39m(MyClass\u001b[39m.\u001b[39;49minstance_method())\n",
      "\u001b[1;31mTypeError\u001b[0m: MyClass.instance_method() missing 1 required positional argument: 'self'"
     ]
    }
   ],
   "source": [
    "print(MyClass.instance_method())  # Error => 첫 번째 인자인 인스턴스 객체가 없습니다."
   ]
  },
  {
   "cell_type": "code",
   "execution_count": 81,
   "metadata": {},
   "outputs": [
    {
     "name": "stdout",
     "output_type": "stream",
     "text": [
      "<__main__.MyClass object at 0x000001B89A34F5E0>\n"
     ]
    }
   ],
   "source": [
    "print(MyClass.instance_method(mc))  # mc.instance_method()와 같습니다."
   ]
  },
  {
   "cell_type": "markdown",
   "metadata": {},
   "source": [
    "### 클래스와 메서드\n",
    "\n",
    "- 클래스가 할 행동은 다음 원칙에 따라 설계합니다. (클래스 메서드와 정적 메서드)\n",
    "    - 클래스 자체(`cls`)와 그 속성에 접근할 필요가 있다면 **클래스 메서드**로 정의합니다.\n",
    "    - 클래스와 클래스 속성에 접근할 필요가 없다면 **정적 메서드**로 정의합니다.\n",
    "        - 정적 메서드는 `cls`, `self`와 같이 묵시적인 첫번째 인자를 받지 않기 때문"
   ]
  },
  {
   "cell_type": "markdown",
   "metadata": {},
   "source": [
    "### [코드예시] Puppy\n",
    "\n",
    "- Puppy 클래스의 속성에 접근하는 클래스 메서드를 생성해 봅시다.\n",
    "- 클래스 변수 `population`를 통해 강아지가 생길 때마다 증가 시키도록 하겠습니다.\n",
    "- 강아지들은 각자의 이름(`name`)과 종(`breed`)을 갖고 있습니다.\n",
    "- `bark()` 메서드를 호출하면 짖을 수 있습니다."
   ]
  },
  {
   "cell_type": "code",
   "execution_count": 82,
   "metadata": {},
   "outputs": [],
   "source": [
    "class Puppy:\n",
    "    population = 0\n",
    "    \n",
    "    def __init__(self, name, breed):\n",
    "        self.name = name\n",
    "        self.breed = breed\n",
    "        Puppy.population += 1\n",
    "        \n",
    "    def __del__(self):\n",
    "        Puppy.population -= 1\n",
    "    \n",
    "    def bark(self):\n",
    "        print(f'왈왈! 나는{self.name}, {self.breed}(이)야')\n",
    "    \n",
    "    @classmethod\n",
    "    def get_population(cls):\n",
    "        print(f'현재 강아지 마리수: {cls.population}')\n",
    "        return cls.population"
   ]
  },
  {
   "cell_type": "code",
   "execution_count": null,
   "metadata": {},
   "outputs": [],
   "source": [
    "# Puppy 클래스의 인스턴스 p1, p2, p3를 생성해봅시다.\n",
    "# name과 breed는 자유롭게 설정합니다."
   ]
  },
  {
   "cell_type": "code",
   "execution_count": 83,
   "metadata": {},
   "outputs": [],
   "source": [
    "p1 = Puppy('초코', '푸들')\n",
    "p2 = Puppy('몽이', '허스키')\n",
    "p3 = Puppy('복실이', '진돗개')"
   ]
  },
  {
   "cell_type": "code",
   "execution_count": 84,
   "metadata": {},
   "outputs": [],
   "source": [
    "# 각 인스턴스마다 bark 메서드를 실행해봅시다."
   ]
  },
  {
   "cell_type": "code",
   "execution_count": 85,
   "metadata": {},
   "outputs": [
    {
     "name": "stdout",
     "output_type": "stream",
     "text": [
      "왈왈! 나는초코, 푸들(이)야\n",
      "왈왈! 나는몽이, 허스키(이)야\n",
      "왈왈! 나는복실이, 진돗개(이)야\n"
     ]
    }
   ],
   "source": [
    "p1.bark()\n",
    "p2.bark()\n",
    "p3.bark()"
   ]
  },
  {
   "cell_type": "code",
   "execution_count": null,
   "metadata": {},
   "outputs": [],
   "source": [
    "# 클래스 메서드 get_population을 호출해봅시다."
   ]
  },
  {
   "cell_type": "code",
   "execution_count": 86,
   "metadata": {},
   "outputs": [
    {
     "name": "stdout",
     "output_type": "stream",
     "text": [
      "현재 강아지 마리수: 3\n"
     ]
    },
    {
     "data": {
      "text/plain": [
       "3"
      ]
     },
     "execution_count": 86,
     "metadata": {},
     "output_type": "execute_result"
    }
   ],
   "source": [
    "Puppy.get_population()"
   ]
  },
  {
   "cell_type": "code",
   "execution_count": 87,
   "metadata": {},
   "outputs": [],
   "source": [
    "del p3"
   ]
  },
  {
   "cell_type": "code",
   "execution_count": 88,
   "metadata": {},
   "outputs": [
    {
     "name": "stdout",
     "output_type": "stream",
     "text": [
      "현재 강아지 마리수: 2\n"
     ]
    },
    {
     "data": {
      "text/plain": [
       "2"
      ]
     },
     "execution_count": 88,
     "metadata": {},
     "output_type": "execute_result"
    }
   ],
   "source": [
    "Puppy.get_population()"
   ]
  },
  {
   "cell_type": "code",
   "execution_count": null,
   "metadata": {},
   "outputs": [],
   "source": [
    "# 위의 Puppy 클래스를 처음부터 정의해봅시다.\n",
    "# 추가로 스태틱 메서드 info를 정의하고 호출해봅시다.\n",
    "# info 메서드는 '이것은 Puppy 클래스입니다!' 라는 문자열을 return 합니다."
   ]
  },
  {
   "cell_type": "code",
   "execution_count": 89,
   "metadata": {
    "scrolled": true
   },
   "outputs": [],
   "source": [
    "class Puppy: # 클래스\n",
    "    population = 0 # 클래스 변수 \n",
    "    \n",
    "    def __init__(self, name, breed): # 생성자 함수 -> 인스턴스가 생성될 때 자동으로 실행됨\n",
    "        self.name = name\n",
    "        self.breed = breed\n",
    "        Puppy.population += 1\n",
    "        \n",
    "    def __del__(self): # 소멸자 함수 -> 인스턴스가 삭제될 때 자동으로 실행됨\n",
    "        Puppy.population -= 1\n",
    "    \n",
    "    def bark(self): # 인스턴스 메서드 -> 인스턴스가 항상 첫 번째 인자로 넘어감\n",
    "        print(f'왈왈! 나는{self.name}, {self.breed}(이)야')\n",
    "    \n",
    "    @classmethod\n",
    "    def get_population(cls): # 클래스 메서드 -> 클래스가 항상 첫 번째 인자로 넘어감\n",
    "        print(cls)\n",
    "        print(f'현재 강아지 마리수: {cls.population}')\n",
    "        return cls.population\n",
    "    \n",
    "    @staticmethod\n",
    "    def info():\n",
    "        return '귀여운 강아지를 만들기 위한 클래스입니다.'"
   ]
  },
  {
   "cell_type": "code",
   "execution_count": 90,
   "metadata": {},
   "outputs": [
    {
     "name": "stdout",
     "output_type": "stream",
     "text": [
      "왈왈! 나는초코, 푸들(이)야\n",
      "귀여운 강아지를 만들기 위한 클래스입니다. 귀여운 강아지를 만들기 위한 클래스입니다.\n",
      "<class '__main__.Puppy'>\n",
      "현재 강아지 마리수: 1\n",
      "1\n"
     ]
    }
   ],
   "source": [
    "d = Puppy('초코', '푸들')\n",
    "\n",
    "# instance method\n",
    "d.bark()\n",
    "\n",
    "# static method\n",
    "print(d.info(), Puppy.info())\n",
    "\n",
    "# class method\n",
    "print(Puppy.get_population())"
   ]
  },
  {
   "cell_type": "code",
   "execution_count": null,
   "metadata": {},
   "outputs": [],
   "source": []
  },
  {
   "cell_type": "markdown",
   "metadata": {},
   "source": [
    "<p style=\"font-size: 33px; font-weight: 700; margin-bottom: 3rem\">OOP III</p>\n",
    "\n",
    "- 상속(Inheritance)\n",
    "- 메서드 오버라이딩(Method Overriding)\n",
    "- 다중 상속(Multiple Inheritance)"
   ]
  },
  {
   "cell_type": "markdown",
   "metadata": {},
   "source": [
    "# 상속 \n",
    "\n"
   ]
  },
  {
   "cell_type": "markdown",
   "metadata": {},
   "source": [
    "## 상속(Inheritance)이란?\n",
    "\n",
    "클래스에서 가장 큰 특징은 `상속`이 가능하다는 것입니다. \n",
    "\n",
    "부모 클래스의 모든 속성이 자식 클래스에게 상속 되므로 코드 재사용성이 높아집니다.\n",
    "\n",
    "---\n",
    "\n",
    "**활용법**\n",
    "\n",
    "\n",
    "```python\n",
    "class ChildClass(ParentClass):\n",
    "    <code block>\n",
    "```"
   ]
  },
  {
   "cell_type": "code",
   "execution_count": null,
   "metadata": {},
   "outputs": [],
   "source": [
    "# Person 클래스를 정의해 보겠습니다."
   ]
  },
  {
   "cell_type": "code",
   "execution_count": 91,
   "metadata": {},
   "outputs": [],
   "source": [
    "class Person:\n",
    "    population = 0\n",
    "    \n",
    "    def __init__(self, name='사람'):\n",
    "        self.name = name\n",
    "        Person.population += 1\n",
    "        \n",
    "    def talk(self):\n",
    "        print(f'반갑습니다. {self.name}입니다.')"
   ]
  },
  {
   "cell_type": "code",
   "execution_count": null,
   "metadata": {},
   "outputs": [],
   "source": [
    "# Person 클래스의 인스턴스 p1을 생성해봅시다.\n",
    "# name 속성은 자유롭게 설정합니다."
   ]
  },
  {
   "cell_type": "code",
   "execution_count": 100,
   "metadata": {},
   "outputs": [
    {
     "name": "stdout",
     "output_type": "stream",
     "text": [
      "반갑습니다. jason입니다.\n"
     ]
    }
   ],
   "source": [
    "p1 = Person('jason')\n",
    "p1.talk()"
   ]
  },
  {
   "cell_type": "code",
   "execution_count": null,
   "metadata": {},
   "outputs": [],
   "source": [
    "# Person 클래스를 상속받아 Student 클래스를 만들어 보겠습니다."
   ]
  },
  {
   "cell_type": "code",
   "execution_count": 93,
   "metadata": {},
   "outputs": [],
   "source": [
    "class Student(Person):\n",
    "    def __init__(self, student_id, name='학생'):\n",
    "        self.name = name\n",
    "        self.student_id = student_id  \n",
    "        Person.population += 1"
   ]
  },
  {
   "cell_type": "code",
   "execution_count": null,
   "metadata": {},
   "outputs": [],
   "source": [
    "# Student 클래스의 객체 s1을 만들어봅시다."
   ]
  },
  {
   "cell_type": "code",
   "execution_count": 96,
   "metadata": {},
   "outputs": [],
   "source": [
    "s1 = Student(1, 'jason')"
   ]
  },
  {
   "cell_type": "code",
   "execution_count": 97,
   "metadata": {},
   "outputs": [],
   "source": [
    "# s1의 name과 student_id를 확인해봅시다."
   ]
  },
  {
   "cell_type": "code",
   "execution_count": 98,
   "metadata": {},
   "outputs": [
    {
     "name": "stdout",
     "output_type": "stream",
     "text": [
      "jason 1\n"
     ]
    }
   ],
   "source": [
    "print(s1.name, s1.student_id)"
   ]
  },
  {
   "cell_type": "code",
   "execution_count": null,
   "metadata": {},
   "outputs": [],
   "source": [
    "# 자식 클래스의 인스턴스는 부모 클래스에 정의된 메서드를 호출 할 수 있습니다.\n",
    "# talk 메서드를 호출해봅시다."
   ]
  },
  {
   "cell_type": "code",
   "execution_count": 99,
   "metadata": {},
   "outputs": [
    {
     "name": "stdout",
     "output_type": "stream",
     "text": [
      "반갑습니다. jason입니다.\n"
     ]
    }
   ],
   "source": [
    "s1.talk()"
   ]
  },
  {
   "cell_type": "markdown",
   "metadata": {},
   "source": [
    "이처럼 상속은 공통된 속성이나 메서드를 부모 클래스에 정의하고, 이를 상속받아 다양한 형태의 사람들을 만들 수 있습니다."
   ]
  },
  {
   "cell_type": "markdown",
   "metadata": {},
   "source": [
    "## `issubclass(class, classinfo)`\n",
    "\n",
    "* class가 classinfo의 subclass면 True"
   ]
  },
  {
   "cell_type": "markdown",
   "metadata": {},
   "source": [
    "## `isinstance(object, classinfo)`\n",
    "\n",
    "* object가 classinfo의 인스턴스거나 subclass인 경우 True"
   ]
  },
  {
   "cell_type": "code",
   "execution_count": null,
   "metadata": {},
   "outputs": [],
   "source": [
    "# issubclass 함수를 통해 Student 클래스와 Person 클래스가 상속관계인지 확인해봅시다. (클래스 상속 검사)\n",
    "# issubclass(자식클래스, 부모클래스)"
   ]
  },
  {
   "cell_type": "code",
   "execution_count": 101,
   "metadata": {},
   "outputs": [
    {
     "data": {
      "text/plain": [
       "True"
      ]
     },
     "execution_count": 101,
     "metadata": {},
     "output_type": "execute_result"
    }
   ],
   "source": [
    "issubclass(Student, Person)"
   ]
  },
  {
   "cell_type": "code",
   "execution_count": null,
   "metadata": {},
   "outputs": [],
   "source": [
    "# isinstance 함수를 통해\n",
    "# s1이 Student 클래스의 인스턴스인지,\n",
    "# s1이 Person 클래스의 인스턴스인지 모두 확인해봅시다.\n",
    "# isinstance(인스턴스, 클래스)"
   ]
  },
  {
   "cell_type": "code",
   "execution_count": 102,
   "metadata": {},
   "outputs": [
    {
     "name": "stdout",
     "output_type": "stream",
     "text": [
      "True\n",
      "True\n"
     ]
    }
   ],
   "source": [
    "print(isinstance(s1, Student))\n",
    "print(isinstance(s1, Person))"
   ]
  },
  {
   "cell_type": "code",
   "execution_count": null,
   "metadata": {},
   "outputs": [],
   "source": [
    "# 내장 자료형들도 아래와 같이 상속 관계가 있습니다."
   ]
  },
  {
   "cell_type": "code",
   "execution_count": null,
   "metadata": {},
   "outputs": [],
   "source": [
    "print(issubclass(bool, int)) # True"
   ]
  },
  {
   "cell_type": "code",
   "execution_count": null,
   "metadata": {},
   "outputs": [],
   "source": [
    "print(issubclass(float, int)) # False"
   ]
  },
  {
   "cell_type": "markdown",
   "metadata": {},
   "source": [
    "## `super()`\n",
    "\n",
    "* 자식 클래스에 메서드를 추가로 구현할 수 있습니다.\n",
    "\n",
    "* 부모 클래스의 내용을 사용하고자 할 때, `super()`를 사용할 수 있습니다.\n",
    "\n",
    "---\n",
    "\n",
    "**활용법**\n",
    "\n",
    "\n",
    "```python\n",
    "class ChildClass(ParentClass):\n",
    "    def method(self, arg):\n",
    "        super().method(arg) \n",
    "```"
   ]
  },
  {
   "cell_type": "code",
   "execution_count": null,
   "metadata": {},
   "outputs": [],
   "source": [
    "# Person 클래스와 Student 클래스를 함께 정의해 보겠습니다."
   ]
  },
  {
   "cell_type": "code",
   "execution_count": 103,
   "metadata": {},
   "outputs": [],
   "source": [
    "class Person:\n",
    "    def __init__(self, name, age, number, email):\n",
    "        self.name = name\n",
    "        self.age = age\n",
    "        self.number = number\n",
    "        self.email = email \n",
    "        \n",
    "    def greeting(self):\n",
    "        print(f'안녕, {self.name}')\n",
    "      \n",
    "    \n",
    "class Student(Person):\n",
    "    def __init__(self, name, age, number, email, student_id):\n",
    "        self.name = name\n",
    "        self.age = age\n",
    "        self.number = number\n",
    "        self.email = email \n",
    "        self.student_id = student_id\n",
    "        \n",
    "p1 = Person('홍교수', 200, '0101231234', 'hong@gildong')\n",
    "s1 = Student('학생', 20, '12312312', 'student@naver.com', '190000')"
   ]
  },
  {
   "cell_type": "code",
   "execution_count": 104,
   "metadata": {},
   "outputs": [],
   "source": [
    "# p1과 s1 모두 greeting 메서드를 호출해봅시다."
   ]
  },
  {
   "cell_type": "code",
   "execution_count": 105,
   "metadata": {},
   "outputs": [
    {
     "name": "stdout",
     "output_type": "stream",
     "text": [
      "안녕, 홍교수\n",
      "None\n",
      "안녕, 학생\n",
      "None\n"
     ]
    }
   ],
   "source": [
    "print(p1.greeting())\n",
    "print(s1.greeting())"
   ]
  },
  {
   "cell_type": "markdown",
   "metadata": {},
   "source": [
    "위의 코드는 상속을 했음에도 불구하고 초기화(`__init__`)에서 동일한 코드가 반복됩니다. \n",
    "\n",
    "초기화의 중복을 `super()` 함수를 통해 제거해봅시다."
   ]
  },
  {
   "cell_type": "code",
   "execution_count": 106,
   "metadata": {},
   "outputs": [
    {
     "name": "stdout",
     "output_type": "stream",
     "text": [
      "안녕, 홍교수\n",
      "안녕, 학생\n"
     ]
    }
   ],
   "source": [
    "class Person:\n",
    "    def __init__(self, name, age, number, email):\n",
    "        self.name = name\n",
    "        self.age = age\n",
    "        self.number = number\n",
    "        self.email = email \n",
    "        \n",
    "    def greeting(self):\n",
    "        print(f'안녕, {self.name}')\n",
    "        \n",
    "        \n",
    "class Student(Person):\n",
    "    def __init__(self, name, age, number, email, student_id):\n",
    "        # Person 클래스\n",
    "        super().__init__(name, age, number, email)\n",
    "        self.student_id = student_id\n",
    "        \n",
    "        \n",
    "p1 = Person('홍교수', 200, '0101231234', 'hong@gildong')\n",
    "s1 = Student('학생', 20, '12312312', 'student@naver.com', '190000')\n",
    "\n",
    "p1.greeting()\n",
    "s1.greeting()"
   ]
  },
  {
   "cell_type": "markdown",
   "metadata": {},
   "source": [
    "### [실습] Rectangle & Square\n",
    "\n",
    "아래의 조건에 만족하는 클래스 `Rentangle` 을 작성하세요.\n",
    "\n",
    "---\n",
    "\n",
    "> Rectangle 클래스는 아래와 같은 속성과 메서드를 갖습니다.\n",
    "- 인스턴스 속성\n",
    "    - `length`: 가로 길이\n",
    "    - `width`: 세로 길이\n",
    ">\n",
    ">   \n",
    "- 인스턴스 메서드\n",
    "    - `area`: 직사각형의 넓이를 리턴\n",
    "    - `perimeter`: 직사각형의 둘레의 길이를 리턴"
   ]
  },
  {
   "cell_type": "code",
   "execution_count": null,
   "metadata": {},
   "outputs": [],
   "source": [
    "# Rectangle 클래스를 정의해봅시다."
   ]
  },
  {
   "cell_type": "code",
   "execution_count": 112,
   "metadata": {},
   "outputs": [],
   "source": [
    "class Rectangle:\n",
    "    def __init__(self, width, height):\n",
    "        self.width = width\n",
    "        self.height = height\n",
    "\n",
    "    def area(self):\n",
    "        return self.width * self.height\n",
    "\n",
    "    def perimeter(self):\n",
    "        return 2 * (self.width + self.height)"
   ]
  },
  {
   "cell_type": "code",
   "execution_count": 113,
   "metadata": {},
   "outputs": [],
   "source": [
    "# Rectangle 클래스의 인스턴스 rectangle을 가로 길이 4, 세로 길이 8로 초기화하고\n",
    "# area 메서드와 perimeter 메서드를 통해 넓이와 둘레를 구해봅시다."
   ]
  },
  {
   "cell_type": "code",
   "execution_count": 114,
   "metadata": {},
   "outputs": [
    {
     "name": "stdout",
     "output_type": "stream",
     "text": [
      "32 24\n"
     ]
    }
   ],
   "source": [
    "rectangle = Rectangle(4, 8)\n",
    "print(rectangle.area(), rectangle.perimeter())"
   ]
  },
  {
   "cell_type": "markdown",
   "metadata": {},
   "source": [
    "* Rectangle 클래스를 상속받아 Sqaure 클래스를 만들어 주세요.\n",
    "    * Square 클래스는 Rectangle 클래스에서 상속받은 속성 외 추가 속성을 가지고 있지 않습니다. \n",
    "    * 단, 정사각형이므로 인스턴스 생성시 인자로 한 변의 길이만 받습니다."
   ]
  },
  {
   "cell_type": "code",
   "execution_count": null,
   "metadata": {},
   "outputs": [],
   "source": [
    "# Square 클래스를 정의해봅시다."
   ]
  },
  {
   "cell_type": "code",
   "execution_count": 115,
   "metadata": {},
   "outputs": [],
   "source": [
    "class Square(Rectangle):\n",
    "    def __init__(self, length):\n",
    "        super().__init__(length, length)"
   ]
  },
  {
   "cell_type": "code",
   "execution_count": 116,
   "metadata": {},
   "outputs": [],
   "source": [
    "# Square 클래스의 인스턴스 square를 길이 4로 초기화하고\n",
    "# area 메서드와 perimeter 메서드를 통해 넓이와 둘레를 구해봅시다."
   ]
  },
  {
   "cell_type": "code",
   "execution_count": 117,
   "metadata": {},
   "outputs": [
    {
     "name": "stdout",
     "output_type": "stream",
     "text": [
      "16 16\n"
     ]
    }
   ],
   "source": [
    "square = Square(4)\n",
    "print(square.area(), square.perimeter())"
   ]
  },
  {
   "cell_type": "markdown",
   "metadata": {},
   "source": [
    "# 메서드 오버라이딩\n",
    "> Method Overriding(메서드 오버라이딩): 자식 클래스에서 부모 클래스의 메서드를 재정의하는 것\n",
    "\n",
    "* 상속 받은 메서드를 `재정의`할 수도 있습니다. \n",
    "* 상속 받은 클래스에서 **같은 이름의 메서드**로 덮어씁니다."
   ]
  },
  {
   "cell_type": "code",
   "execution_count": null,
   "metadata": {},
   "outputs": [],
   "source": [
    "class Person:\n",
    "    def __init__(self, name, age, number, email):\n",
    "        self.name = name\n",
    "        self.age = age\n",
    "        self.number = number\n",
    "        self.email = email \n",
    "        \n",
    "    def talk(self):\n",
    "        print(f'안녕, {self.name}')"
   ]
  },
  {
   "cell_type": "code",
   "execution_count": null,
   "metadata": {},
   "outputs": [],
   "source": [
    "# 위의 Person 클래스를 상속 받아 군인답게 말하는 Soldier 클래스를 만들어 보겠습니다.\n",
    "# talk 메서드를 재정의(override) 하겠습니다."
   ]
  },
  {
   "cell_type": "code",
   "execution_count": null,
   "metadata": {},
   "outputs": [],
   "source": [
    "class Soldier(Person):\n",
    "    def __init__(self, name, age, number, email, army):\n",
    "        super().__init__(name, age, number, email)\n",
    "        self.army = army\n",
    "        \n",
    "    # method overriding    \n",
    "    def talk(self):\n",
    "        print(f'충성! {self.army} {self.name}')"
   ]
  },
  {
   "cell_type": "code",
   "execution_count": null,
   "metadata": {},
   "outputs": [],
   "source": [
    "p = Person('일반인', 10, '010123', '1banin@gmail.com')\n",
    "p.talk()"
   ]
  },
  {
   "cell_type": "code",
   "execution_count": null,
   "metadata": {},
   "outputs": [],
   "source": [
    "s = Soldier('굳건이', 25, '0101234', 'soldier@roka.kr', '하사')\n",
    "s.talk()"
   ]
  },
  {
   "cell_type": "markdown",
   "metadata": {},
   "source": [
    "## 상속관계에서의 이름공간\n",
    "\n",
    "* 기존의 `인스턴스 -> 클래스` 순으로 이름 공간을 탐색해나가는 과정에서 상속관계에 있으면 아래와 같이 확장됩니다.\n",
    "\n",
    "    * 인스턴스 -> 자식 클래스 -> 부모 클래스"
   ]
  },
  {
   "cell_type": "markdown",
   "metadata": {},
   "source": [
    "### [연습] Person & Animal (메서드 오버라이딩)\n",
    "\n",
    "> 사실 사람은 포유류입니다. \n",
    ">\n",
    "> Animal Class를 만들고, Person Class 가 상속받도록 구성해봅시다.\n",
    ">\n",
    "> (변수나, 메서드는 자유롭게 만들어보세요.)\n",
    "\n",
    "```\n",
    "예시) \n",
    "모든 동물은 이름이 있고, 사람은 이름과 이메일이 있습니다.\n",
    "모든 동물은 talk 메서드가 있습니다. \n",
    "동물은 '으르렁'하고, 사람은 '안녕'합니다.\n",
    "```\n"
   ]
  },
  {
   "cell_type": "code",
   "execution_count": null,
   "metadata": {},
   "outputs": [],
   "source": [
    "# 아래에 코드를 작성해주세요."
   ]
  },
  {
   "cell_type": "code",
   "execution_count": null,
   "metadata": {},
   "outputs": [],
   "source": [
    "# \n",
    "\n",
    "class Animal:\n",
    "    def __init__(self, name):\n",
    "        self.name = name\n",
    "    \n",
    "    def talk(self):\n",
    "        print('grr')\n",
    "            \n",
    "\n",
    "class Person(Animal):\n",
    "    def __init__(self, name, email):\n",
    "        super().__init__(name)\n",
    "        self.email = email\n",
    "    \n",
    "    def talk(self):\n",
    "        print('안녕')\n",
    "            \n",
    "\n",
    "animal = Animal('곰')\n",
    "animal.talk()\n",
    "\n",
    "person = Person('김싸피', 'hello@ssafy.com')\n",
    "person.talk()"
   ]
  },
  {
   "cell_type": "markdown",
   "metadata": {},
   "source": [
    "# 다중 상속\n",
    "* 두개 이상의 클래스를 상속받는 경우, 다중 상속이 됩니다.\n",
    "    * 상속 받은 모든 클래스의 요소를 활용 가능\n",
    "    * 중복된 속성이나 메서드가 있는 경우 상속 순서에 의해 결정\n"
   ]
  },
  {
   "cell_type": "code",
   "execution_count": null,
   "metadata": {},
   "outputs": [],
   "source": [
    "# Person 클래스를 정의합니다.\n",
    "# Person 클래스는 생성자에서 인스턴스 변수로 name을 설정합니다."
   ]
  },
  {
   "cell_type": "code",
   "execution_count": null,
   "metadata": {},
   "outputs": [],
   "source": [
    "class Person:\n",
    "    def __init__(self, name):\n",
    "        self.name = name\n",
    "\n",
    "    def greeting(self):\n",
    "        return f'안녕, {self.name}'"
   ]
  },
  {
   "cell_type": "code",
   "execution_count": null,
   "metadata": {},
   "outputs": [],
   "source": [
    "# Mom 클래스를 정의합니다.\n",
    "# Mom 클래스는 Person 클래스를 상속받으며, 클래스 변수로 gene을 갖습니다. 값은 'XX'입니다.\n",
    "# Dad 클래스만의 인스턴스 메서드 swim을 자유롭게 정의해봅시다."
   ]
  },
  {
   "cell_type": "code",
   "execution_count": null,
   "metadata": {},
   "outputs": [],
   "source": [
    "class Mom(Person):\n",
    "    gene = 'XX'\n",
    "    \n",
    "    def swim(self):\n",
    "        return '첨벙첨벙'"
   ]
  },
  {
   "cell_type": "code",
   "execution_count": null,
   "metadata": {},
   "outputs": [],
   "source": [
    "# Dad 클래스를 정의합니다.\n",
    "# Dad 클래스는 Person 클래스를 상속받으며, 클래스 변수로 gene을 갖습니다. 값은 'XY'입니다.\n",
    "# Dad 클래스만의 인스턴스 메서드 walk를 자유롭게 정의해봅시다."
   ]
  },
  {
   "cell_type": "code",
   "execution_count": null,
   "metadata": {},
   "outputs": [],
   "source": [
    "class Dad(Person):\n",
    "    gene = 'XY'\n",
    "    \n",
    "    def walk(self):\n",
    "        return '성큼성큼'"
   ]
  },
  {
   "cell_type": "code",
   "execution_count": null,
   "metadata": {},
   "outputs": [],
   "source": [
    "# FirstChild 클래스를 정의합니다. \n",
    "# 상속의 순서가 중요합니다.(Dad, Mom) 순서로 상속받아봅시다.\n",
    "# 상속받은 swim 메서드를 재정의(override)해봅시다.\n",
    "# FirstChild 클래스만의 인스턴스 메서드 cry를 자유롭게 정의해봅시다."
   ]
  },
  {
   "cell_type": "code",
   "execution_count": null,
   "metadata": {},
   "outputs": [],
   "source": [
    "class FirstChild(Dad, Mom): \n",
    "    def swim(self):  # Mom의 swim 메서드를 오버라이딩 합니다.\n",
    "        return '챱챱'\n",
    "    \n",
    "    def cry(self):  # Child 만이 가지는 인스턴스 메서드 입니다.\n",
    "        return '응애'"
   ]
  },
  {
   "cell_type": "code",
   "execution_count": null,
   "metadata": {},
   "outputs": [],
   "source": [
    "# FirstChild 클래스의 인스턴스 baby1을 생성해봅시다."
   ]
  },
  {
   "cell_type": "code",
   "execution_count": null,
   "metadata": {},
   "outputs": [],
   "source": [
    "baby1 = FirstChild()"
   ]
  },
  {
   "cell_type": "code",
   "execution_count": null,
   "metadata": {},
   "outputs": [],
   "source": [
    "# baby1의 cry 메서드를 실행해봅시다."
   ]
  },
  {
   "cell_type": "code",
   "execution_count": null,
   "metadata": {},
   "outputs": [],
   "source": [
    "baby1.cry()"
   ]
  },
  {
   "cell_type": "code",
   "execution_count": null,
   "metadata": {},
   "outputs": [],
   "source": [
    "# baby1의 swim 메서드를 실행해봅시다."
   ]
  },
  {
   "cell_type": "code",
   "execution_count": null,
   "metadata": {},
   "outputs": [],
   "source": [
    "baby1.swim()"
   ]
  },
  {
   "cell_type": "code",
   "execution_count": null,
   "metadata": {},
   "outputs": [],
   "source": [
    "# baby1의 walk 메서드를 실행해봅시다."
   ]
  },
  {
   "cell_type": "code",
   "execution_count": null,
   "metadata": {},
   "outputs": [],
   "source": [
    "baby1.walk('asdf')"
   ]
  },
  {
   "cell_type": "code",
   "execution_count": null,
   "metadata": {},
   "outputs": [],
   "source": [
    "# baby1의 gene 속성은 어떤 부모클래스의 속성값을 상속받는지 확인해봅시다."
   ]
  },
  {
   "cell_type": "code",
   "execution_count": null,
   "metadata": {},
   "outputs": [],
   "source": [
    "baby1.gene"
   ]
  },
  {
   "cell_type": "code",
   "execution_count": null,
   "metadata": {},
   "outputs": [],
   "source": [
    "# 이번에는 SecondChild 클래스를 만들어 상속 순서를 바꿔봅시다.\n",
    "# (Mom, Dad) 순서로 상속받아봅시다.\n",
    "# 상속받은 walk 메서드를 재정의(override)해봅시다.\n",
    "# SecondChild 클래스만의 인스턴스 메서드 cry를 자유롭게 정의해봅시다."
   ]
  },
  {
   "cell_type": "code",
   "execution_count": null,
   "metadata": {},
   "outputs": [],
   "source": [
    "class SecondChild(Mom, Dad):  \n",
    "    def walk(self):  # Dad 의 walk 메서드를 오버라이딩 합니다.\n",
    "        return '아장아장'\n",
    "    \n",
    "    def cry(self):  \n",
    "        return '응애'"
   ]
  },
  {
   "cell_type": "code",
   "execution_count": null,
   "metadata": {},
   "outputs": [],
   "source": [
    "# SecondChild의 인스턴스 baby2를 생성합니다."
   ]
  },
  {
   "cell_type": "code",
   "execution_count": null,
   "metadata": {},
   "outputs": [],
   "source": [
    "baby2 = SecondChild('김애기')"
   ]
  },
  {
   "cell_type": "code",
   "execution_count": null,
   "metadata": {},
   "outputs": [],
   "source": [
    "# baby2의 cry 메서드를 실행합니다."
   ]
  },
  {
   "cell_type": "code",
   "execution_count": null,
   "metadata": {},
   "outputs": [],
   "source": [
    "baby2.cry()"
   ]
  },
  {
   "cell_type": "code",
   "execution_count": null,
   "metadata": {},
   "outputs": [],
   "source": [
    "# baby2의 walk 메서드를 실행합니다."
   ]
  },
  {
   "cell_type": "code",
   "execution_count": null,
   "metadata": {},
   "outputs": [],
   "source": [
    "baby2.walk()"
   ]
  },
  {
   "cell_type": "code",
   "execution_count": null,
   "metadata": {},
   "outputs": [],
   "source": [
    "# baby2의 swim 메서드를 실행합니다."
   ]
  },
  {
   "cell_type": "code",
   "execution_count": null,
   "metadata": {},
   "outputs": [],
   "source": [
    "baby2.swim()"
   ]
  },
  {
   "cell_type": "code",
   "execution_count": null,
   "metadata": {},
   "outputs": [],
   "source": [
    "# baby2의 gene 속성은 어떤 부모클래스의 속성값을 상속받는지 확인해봅시다."
   ]
  },
  {
   "cell_type": "code",
   "execution_count": null,
   "metadata": {},
   "outputs": [],
   "source": [
    "baby2.gene"
   ]
  }
 ],
 "metadata": {
  "interpreter": {
   "hash": "322018e35ac4f46d1be23d37489e93f08b335b6041c3f34be3e4bfc70f2b3c28"
  },
  "kernelspec": {
   "display_name": "Python 3 (ipykernel)",
   "language": "python",
   "name": "python3"
  },
  "language_info": {
   "codemirror_mode": {
    "name": "ipython",
    "version": 3
   },
   "file_extension": ".py",
   "mimetype": "text/x-python",
   "name": "python",
   "nbconvert_exporter": "python",
   "pygments_lexer": "ipython3",
   "version": "3.10.4"
  }
 },
 "nbformat": 4,
 "nbformat_minor": 2
}
