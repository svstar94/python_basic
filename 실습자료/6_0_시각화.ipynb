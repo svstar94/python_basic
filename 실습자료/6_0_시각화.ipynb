{
 "cells": [
  {
   "cell_type": "markdown",
   "id": "df0cb224",
   "metadata": {
    "id": "-2HK5k9ILYeI"
   },
   "source": [
    "## Matplotlib\n",
    "### 데이터들을 그래프로 시각화\n",
    "### http://matplotlib.org"
   ]
  },
  {
   "cell_type": "code",
   "execution_count": null,
   "id": "5a1bf0d9",
   "metadata": {
    "id": "6M-d1MQvLYeJ"
   },
   "outputs": [],
   "source": [
    "import matplotlib.pyplot as plt\n",
    "import numpy as np\n",
    "%matplotlib inline"
   ]
  },
  {
   "cell_type": "markdown",
   "id": "b1d1ac06",
   "metadata": {
    "id": "7gERrsmMLYeO"
   },
   "source": [
    "## 라인 그래프 그리기"
   ]
  },
  {
   "cell_type": "code",
   "execution_count": null,
   "id": "e00c53c7",
   "metadata": {
    "id": "tKIYYSOaLYeO",
    "outputId": "64c6d3a6-e1fa-42ec-cefd-f4918978eb7f"
   },
   "outputs": [],
   "source": [
    "x = [10, 14, 19, 20, 25]\n",
    "plt.plot(x)\n",
    "plt.show()"
   ]
  },
  {
   "cell_type": "code",
   "execution_count": null,
   "id": "4b3612b6",
   "metadata": {
    "id": "Epa7OPUpLYeT",
    "outputId": "8629f8f3-8b62-4b36-ac8a-31ce3b8a6e46"
   },
   "outputs": [],
   "source": [
    "x = np.arange(-4.5, 5, 0.5)\n",
    "y = x**2\n",
    "plt.plot(x, y)\n",
    "plt.show()"
   ]
  },
  {
   "cell_type": "markdown",
   "id": "89511e4a",
   "metadata": {
    "id": "5rMSeKAzLYeW"
   },
   "source": [
    "## 한번에 여려 그래프 그리기"
   ]
  },
  {
   "cell_type": "code",
   "execution_count": null,
   "id": "aa6294c8",
   "metadata": {
    "id": "IccpRIpKLYeX",
    "outputId": "29b4f278-fad0-44ba-b69d-82d3d7dcc6d7"
   },
   "outputs": [],
   "source": [
    "x = np.arange(-4.5, 5, 0.5)\n",
    "\n",
    "y1 = x**2\n",
    "y2 = x+30\n",
    "y3 = x**2+10\n",
    "\n",
    "plt.plot(x, y1)\n",
    "plt.plot(x, y2)\n",
    "plt.plot(x, y3)\n",
    "\n",
    "plt.show()"
   ]
  },
  {
   "cell_type": "markdown",
   "id": "821494e3",
   "metadata": {
    "id": "8PU5LrT4LYea"
   },
   "source": [
    "## plot 옵션"
   ]
  },
  {
   "cell_type": "code",
   "execution_count": null,
   "id": "8ea49241",
   "metadata": {
    "id": "zdvNTH80LYeb",
    "outputId": "484afc78-bdf4-4ea8-b1d6-67cd6ca28ea7",
    "scrolled": true
   },
   "outputs": [],
   "source": [
    "x = np.arange(-4.5, 5, 0.5)\n",
    "\n",
    "y1 = x**2\n",
    "y2 = x+30\n",
    "y3 = x**2+10\n",
    "\n",
    "plt.plot(x, y1, color=\"red\", linestyle=\"dashed\")\n",
    "plt.plot(x, y2, \"b:\")\n",
    "plt.plot(x, y3, color='#00FF00', linestyle=\"-.\")\n",
    "\n",
    "plt.show()"
   ]
  },
  {
   "cell_type": "markdown",
   "id": "c2283589",
   "metadata": {
    "id": "FCMPmhdsLYef"
   },
   "source": [
    "## 축의범위조정"
   ]
  },
  {
   "cell_type": "code",
   "execution_count": null,
   "id": "13eec917",
   "metadata": {
    "id": "_ezTTVs-LYeg",
    "outputId": "d2497ae3-cc62-4d82-abc9-8ae2a1253561"
   },
   "outputs": [],
   "source": [
    "x = np.linspace(0, 10, 100)\n",
    "y = x ** 2\n",
    "\n",
    "plt.plot(x, y, '--r')\n",
    "#plt.xlim(-20, 30)\n",
    "#plt.ylim(-20, 120)\n",
    "plt.axis([-20, 30, -20, 120])\n",
    "plt.show()"
   ]
  },
  {
   "cell_type": "markdown",
   "id": "ad922d80",
   "metadata": {
    "id": "K3QZO709LYek"
   },
   "source": [
    "## label 과 legend"
   ]
  },
  {
   "cell_type": "code",
   "execution_count": null,
   "id": "45adafce",
   "metadata": {
    "id": "0roH5q0HLYel",
    "outputId": "5886db32-84b5-40dc-92ec-5fd7eb27f4fa"
   },
   "outputs": [],
   "source": [
    "# matplotlib 폰트설정\n",
    "plt.rc('font', family='AppleGothic') # For MacOS\n",
    "#plt.rc('font', family='Malgun Gothic') # For Windows\n",
    "\n",
    "x = np.linspace(0, 10, 100)\n",
    "y1 = x ** 2\n",
    "y2 = x ** 3\n",
    "\n",
    "plt.plot(x, y1, 'r', label='라인1')\n",
    "plt.plot(x, y2, 'g', label='라인2')\n",
    "\n",
    "plt.xlabel('x 라벨')\n",
    "plt.ylabel('y 라벨')\n",
    "\n",
    "# plt.legend(loc=2)\n",
    "plt.legend(bbox_to_anchor=(1.04, 1))\n",
    "plt.show() "
   ]
  },
  {
   "cell_type": "markdown",
   "id": "a1832de1",
   "metadata": {
    "id": "pG1siQV8LYep"
   },
   "source": [
    "## subplot"
   ]
  },
  {
   "cell_type": "code",
   "execution_count": null,
   "id": "03fd2e2a",
   "metadata": {
    "id": "82i6gst4LYeq",
    "outputId": "68a7fc83-ac8d-4459-ceba-bdce21506ae2"
   },
   "outputs": [],
   "source": [
    "plt.subplot(131)\n",
    "plt.plot([1, 2], color='r')\n",
    "\n",
    "plt.subplot(132)\n",
    "plt.plot([1, 2], color='g')\n",
    "\n",
    "plt.subplot(133)\n",
    "plt.plot([1, 2], color='b')\n",
    "\n",
    "plt.show()"
   ]
  },
  {
   "cell_type": "code",
   "execution_count": null,
   "id": "0e66e308",
   "metadata": {
    "id": "Zs5WlTBhLYeu",
    "outputId": "7e610f34-1846-4db7-f9bc-c5200c3f9a85",
    "scrolled": true
   },
   "outputs": [],
   "source": [
    "plt.subplot(221)\n",
    "plt.plot([1, 2], color='r')\n",
    "\n",
    "plt.subplot(222)\n",
    "plt.plot([1, 2], color='g')\n",
    "\n",
    "plt.subplot(223)\n",
    "plt.plot([1, 2], color='b')\n",
    "\n",
    "plt.subplot(224)\n",
    "plt.plot([1, 2], color='r')\n",
    "\n",
    "plt.show()"
   ]
  },
  {
   "cell_type": "markdown",
   "id": "383c06c9",
   "metadata": {
    "id": "OqQGHPgdLYex"
   },
   "source": [
    "## Gird"
   ]
  },
  {
   "cell_type": "code",
   "execution_count": null,
   "id": "c3d53bab",
   "metadata": {
    "id": "x_OcmEDzLYey",
    "outputId": "9d842819-4bd0-4f1a-88b7-1b670f8c622b"
   },
   "outputs": [],
   "source": [
    "plt.figure(figsize=(5, 5))\n",
    "\n",
    "grid = plt.GridSpec(2, 3)\n",
    "\n",
    "plt.subplot(grid[0, 0])\n",
    "plt.plot([1, 2], color='r')\n",
    "\n",
    "plt.subplot(grid[0, 1])\n",
    "plt.plot([1, 2], color='g')\n",
    "\n",
    "plt.subplot(grid[0, 2])\n",
    "plt.plot([1, 2], color='b')\n",
    "\n",
    "plt.subplot(grid[1, :2])\n",
    "plt.plot([1, 2], color='b')\n",
    "\n",
    "plt.subplot(grid[1, 2])\n",
    "plt.plot([1, 2], color='r')\n",
    "\n",
    "plt.show()"
   ]
  },
  {
   "cell_type": "markdown",
   "id": "b57f356c",
   "metadata": {
    "id": "OS74SCB5LYe6"
   },
   "source": [
    "## Scatter (산점도)"
   ]
  },
  {
   "cell_type": "code",
   "execution_count": null,
   "id": "52276d46",
   "metadata": {
    "id": "_SE486ZLLYe6",
    "outputId": "87bab47e-e6aa-42fd-9251-02c6674d5414",
    "scrolled": true
   },
   "outputs": [],
   "source": [
    "import matplotlib.pyplot as plt\n",
    "import numpy as np\n",
    "\n",
    "x = np.random.rand(30)\n",
    "y = np.random.rand(30)\n",
    "a = np.random.rand(30)\n",
    "b = np.random.rand(30)\n",
    "e = np.random.rand(30)\n",
    "f = np.random.rand(30)\n",
    "color = np.random.rand(30)\n",
    "\n",
    "size = 100 * np.random.rand(30)\n",
    "\n",
    "plt.scatter(x, y, s=size, c=color, alpha=0.5, marker='o')\n",
    "plt.scatter(a, b, s=size, c=color, alpha=0.5, marker='^')\n",
    "plt.scatter(e, f, s=size, c=color, alpha=0.5, marker='+')\n",
    "plt.show()"
   ]
  },
  {
   "cell_type": "markdown",
   "id": "201fbc5f",
   "metadata": {
    "id": "KCiu1oGnLYe-"
   },
   "source": [
    "## Histogram (히스토그램)"
   ]
  },
  {
   "cell_type": "code",
   "execution_count": null,
   "id": "0a11b87c",
   "metadata": {
    "id": "VxVWg0n3LYe-",
    "outputId": "15370111-bf1d-47f4-8936-388b849c3952",
    "scrolled": true
   },
   "outputs": [],
   "source": [
    "data = [np.random.randint(1, 7) for i in range(10)]\n",
    "plt.hist(data, bins=6, alpha=1)\n",
    "plt.show()"
   ]
  },
  {
   "cell_type": "markdown",
   "id": "2fb391ab",
   "metadata": {
    "id": "0J5_WzTtLYfB"
   },
   "source": [
    "## Bar (바차트)"
   ]
  },
  {
   "cell_type": "code",
   "execution_count": null,
   "id": "9955b130",
   "metadata": {
    "id": "XDmv9bNWLYfC",
    "outputId": "3cf3d3b5-e5ba-4ea6-873e-c7297bc8db0a"
   },
   "outputs": [],
   "source": [
    "#plt.bar(['10대', '20대', '30대', '40대', '50대'], [np.random.randint(1, 50) for i in range(5)])\n",
    "plt.barh(['10대', '20대', '30대', '40대', '50대'], [np.random.randint(1, 50) for i in range(5)], color='g')\n",
    "plt.title('제목')\n",
    "plt.xlabel('나이')\n",
    "plt.ylabel('값')\n",
    "plt.show()"
   ]
  },
  {
   "cell_type": "code",
   "execution_count": null,
   "id": "b5226e1b",
   "metadata": {},
   "outputs": [],
   "source": []
  }
 ],
 "metadata": {
  "kernelspec": {
   "display_name": "Python 3.10.5 64-bit (windows store)",
   "language": "python",
   "name": "python3"
  },
  "language_info": {
   "codemirror_mode": {
    "name": "ipython",
    "version": 3
   },
   "file_extension": ".py",
   "mimetype": "text/x-python",
   "name": "python",
   "nbconvert_exporter": "python",
   "pygments_lexer": "ipython3",
   "version": "3.10.5"
  },
  "vscode": {
   "interpreter": {
    "hash": "74acc8fd29d08fd23b8add57691a7aaff18961a013511531a1e8050c061d9e6d"
   }
  }
 },
 "nbformat": 4,
 "nbformat_minor": 5
}
