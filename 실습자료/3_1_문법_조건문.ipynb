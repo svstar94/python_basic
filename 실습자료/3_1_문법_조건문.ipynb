{
 "cells": [
  {
   "cell_type": "markdown",
   "metadata": {},
   "source": [
    "<p style=\"font-size: 33px; font-weight: 700; margin-bottom: 3rem\">제어문(Control Statement)</p>\n",
    "\n",
    "[파이썬 문서](https://docs.python.org/ko/3/tutorial/controlflow.html)\n",
    "\n",
    "지금까지 우리는 위에서부터 아래로 순차적으로 명령을 수행하는 프로그램을 작성하였습니다.\n",
    "\n",
    "특정 상황에 따라 코드를 선택적으로 실행(분기)하거나 동일한 코드를 계속해서 실행해야하려면 어떻게 해야할까요? \n",
    "\n",
    "이 경우, **코드 실행의 순차적인 흐름을 제어**(Control Flow)할 필요가 있습니다.\n",
    "\n",
    "이러한 순차적인 코드의 흐름을 제어하는 것을 제어문이라고 하고, 제어문은 크게 **조건문**과 **반복문**으로 나눌 수 있습니다. \n",
    "\n",
    "제어문을 통해 다음과 순서도(Flow Chart)를 코드로 표현할 수 있습니다."
   ]
  },
  {
   "cell_type": "markdown",
   "metadata": {},
   "source": [
    "<center> \n",
    "    <img src=\"https://user-images.githubusercontent.com/18046097/61180553-25e87b00-a653-11e9-9895-7976d7204734.png\", alt='if flowchart'/>\n",
    "</center>"
   ]
  },
  {
   "cell_type": "code",
   "execution_count": null,
   "metadata": {},
   "outputs": [],
   "source": [
    "# 위의 Flow Chart를 조건문으로 작성해봅시다.\n",
    "# if 문을 활용해봅시다."
   ]
  },
  {
   "cell_type": "code",
   "execution_count": null,
   "metadata": {},
   "outputs": [],
   "source": []
  },
  {
   "cell_type": "markdown",
   "metadata": {},
   "source": [
    "# 조건문(Conditional Statement)\n",
    "\n",
    "`if` 문은 반드시 **참/거짓을 판단할 수 있는 조건**과 함께 사용이 되어야합니다.\n"
   ]
  },
  {
   "cell_type": "markdown",
   "metadata": {},
   "source": [
    "## `if` 조건문의 구성\n",
    "\n",
    "### 활용법\n",
    "\n",
    "- **문법**\n",
    "\n",
    "```python\n",
    "if <expression>:\n",
    "    <코드 블럭>\n",
    "else:\n",
    "    <코드 블럭>\n",
    "```\n",
    "\n",
    "- **예시**\n",
    "\n",
    "```python\n",
    "if a > 0:\n",
    "    print('양수입니다.')\n",
    "else:\n",
    "    print('음수입니다.')\n",
    "```\n",
    "* `expression`에는 일반적으로 참/거짓에 대한 조건식이 들어갑니다.\n",
    "\n",
    "* **조건**이 **참**인 경우 `:` 이후의 문장을 수행합니다.\n",
    "\n",
    "* **조건**이 **거짓**인 경우 `else:` 이후의 문장을 수행합니다.\n",
    "\n",
    "* 여러 개의 `elif` 부가 있을 수 있고(없거나), `else`는 선택적으로 사용합니다.\n",
    "\n",
    "### 주의사항\n",
    "* 이때 반드시 **들여쓰기**를 유의해야합니다. \n",
    "    - 파이썬에서는 코드 블록을 자바나 C언어의 `{}`와 달리 **들여쓰기**로 판단하기 때문입니다.\n",
    "* 앞으로 우리는 [PEP 8](https://www.python.org/dev/peps/pep-0008/#indentation)에서 권장하는 **4spaces**를 사용합니다.\n"
   ]
  },
  {
   "cell_type": "markdown",
   "metadata": {},
   "source": [
    "<center>\n",
    "    <img src=\"https://user-images.githubusercontent.com/18046097/61180564-3a2c7800-a653-11e9-9fba-d60d2688ed3a.png\", alt=\"if style\"/>\n",
    "</center>"
   ]
  },
  {
   "cell_type": "markdown",
   "metadata": {},
   "source": [
    "<br>\n",
    "\n",
    "<center>\n",
    "    <img src=\"https://user-images.githubusercontent.com/18046097/61180566-3ac50e80-a653-11e9-81a6-2f195eeb0a65.png\", alt=\"[space vs tab]\"/>\n",
    "</center>    \n",
    "\n",
    "\n",
    "\n",
    "\n",
    "[출처 : 400,000 GitHub repositories, 1 billion files, 14 terabytes of code: Spaces or Tabs?](https://medium.com/@hoffa/400-000-github-repositories-1-billion-files-14-terabytes-of-code-spaces-or-tabs-7cfe0b5dd7fd)\n"
   ]
  },
  {
   "cell_type": "markdown",
   "metadata": {},
   "source": [
    "### [연습] 크리스마스 판독기\n",
    "> 조건문을 통해 사용자가 입력한 날짜가 크리스마스인지 확인하세요.\n",
    "\n",
    "---\n",
    "\n",
    "**[입력 예시]**\n",
    "\n",
    "12/25\n",
    "\n",
    "**[출력 예시]**\n",
    "\n",
    "크리스마스입니다."
   ]
  },
  {
   "cell_type": "code",
   "execution_count": null,
   "metadata": {
    "scrolled": true
   },
   "outputs": [],
   "source": [
    "is_christmas = input('날짜를 입력해주세요 ex)12/24 : ')"
   ]
  },
  {
   "cell_type": "code",
   "execution_count": null,
   "metadata": {},
   "outputs": [],
   "source": [
    "# 아래에 코드를 작성하세요.\n",
    "# if 문을 활용해봅시다.\n",
    "# is_christmas에 할당된 값이 '12/25'인 경우에는\n",
    "# '크리스마스입니다 :)' 를 출력하고\n",
    "# 그외의 경우에는 '크리스마스가 아닙니다 :(' 를 출력하는 코드를 작성하세요."
   ]
  },
  {
   "cell_type": "code",
   "execution_count": null,
   "metadata": {},
   "outputs": [],
   "source": []
  },
  {
   "cell_type": "markdown",
   "metadata": {},
   "source": [
    "### [실습] 홀/짝 판독기\n",
    "\n",
    "\n",
    "> 조건문을 통해 변수 num의 값과 홀수/짝수 여부를 출력하세요.\n",
    "\n",
    "---\n",
    "\n",
    "**[입력 예시]**\n",
    "\n",
    "3\n",
    "\n",
    "**[출력 예시]**\n",
    "\n",
    "홀수입니다."
   ]
  },
  {
   "cell_type": "code",
   "execution_count": null,
   "metadata": {},
   "outputs": [],
   "source": [
    "num = int(input('숫자를 입력하세요 : '))"
   ]
  },
  {
   "cell_type": "code",
   "execution_count": null,
   "metadata": {},
   "outputs": [],
   "source": [
    "# 아래에 코드를 작성하세요.\n",
    "# if 문을 활용해봅시다.\n",
    "# num에 할당된 값을 2로 나누었을때 나머지가 있는 경우에는 '홀수입니다.'를 출력하고\n",
    "# num에 할당된 값이 2로 나누어 떨어지는 경우에는 '짝수입니다.'를 출력하는 코드를 작성하세요."
   ]
  },
  {
   "cell_type": "code",
   "execution_count": null,
   "metadata": {},
   "outputs": [],
   "source": []
  },
  {
   "cell_type": "markdown",
   "metadata": {},
   "source": [
    "## `elif` 복수 조건\n",
    "\n",
    "2개 이상의 조건을 활용할 경우 `elif <조건>:`을 활용합니다.\n",
    "<center>\n",
    "<img src=\"https://user-images.githubusercontent.com/18046097/61180560-3993e180-a653-11e9-8263-79bd7bc6eed7.png\", alt=\"elif\">\n",
    "</center>"
   ]
  },
  {
   "cell_type": "markdown",
   "metadata": {},
   "source": [
    "### [연습] 복수 조건문 연습\n",
    "\n",
    "> 조건문을 통해 변수 score에 따른 평점을 출력하세요.\n",
    "\n",
    "|점수|등급|\n",
    "|---|---|\n",
    "|90점 이상|A|\n",
    "|80점 이상|B|\n",
    "|70점 이상|C|\n",
    "|60점 이상|D|\n",
    "|60점 미만|F|\n",
    "\n",
    "--- \n",
    "\n",
    "**[입력 예시]**\n",
    "\n",
    "85\n",
    "\n",
    "**[출력 예시]**\n",
    "\n",
    "B"
   ]
  },
  {
   "cell_type": "code",
   "execution_count": null,
   "metadata": {
    "scrolled": true
   },
   "outputs": [],
   "source": [
    "score = int(input('점수를 입력하세요 : '))"
   ]
  },
  {
   "cell_type": "code",
   "execution_count": null,
   "metadata": {},
   "outputs": [],
   "source": [
    "# 아래에 코드를 작성하세요.\n",
    "# if, elif, else 문을 활용해봅시다.\n",
    "# score에 할당된 값이 90 이상인 경우에는 'A'를 출력하고,\n",
    "# score에 할당된 값이 90 미만, 80 이상인 경우에는 'B'를 출력하고,\n",
    "# score에 할당된 값이 80 미만, 70 이상인 경우에는 'C'를 출력하고,\n",
    "# score에 할당된 값이 70 미만, 60 이상인 경우에는 'D'를 출력하고,\n",
    "# score에 할당된 값이 60 미만인 경우에는 'F'를 출력하는 코드를 작성하시오."
   ]
  },
  {
   "cell_type": "code",
   "execution_count": null,
   "metadata": {},
   "outputs": [],
   "source": []
  },
  {
   "cell_type": "code",
   "execution_count": null,
   "metadata": {},
   "outputs": [],
   "source": [
    "# 조건문은 순서대로 조건식을 검증하므로 순서에 유의해야 한다.\n",
    "# score 가 80점이지만 조건문의 순서에 따라 'B'를 출력하지 못하고 'D학점 이상'을 출력한다.\n",
    "\n",
    "score = 80\n",
    "\n",
    "if score >= 90:\n",
    "    print('A')\n",
    "elif score >= 60:\n",
    "    print('D학점 이상')\n",
    "elif score >= 80:\n",
    "    print('B')"
   ]
  },
  {
   "cell_type": "markdown",
   "metadata": {},
   "source": [
    "## 중첩 조건문(Nested Conditional Statement)\n",
    "\n",
    "조건문은 다른 조건문에 중첩될 수도 있습니다."
   ]
  },
  {
   "cell_type": "markdown",
   "metadata": {},
   "source": [
    "### [연습] 중첩 조건문 활용\n",
    "\n",
    "> 위 실습문제 2개 코드를 활용하여 \n",
    "95점 이상이면, \"참 잘했어요\"도 함께 출력해주세요.\n",
    "\n",
    "--- \n",
    "**[출력 예시]**\n",
    "\n",
    "A\n",
    "\n",
    "참잘했어요."
   ]
  },
  {
   "cell_type": "code",
   "execution_count": null,
   "metadata": {},
   "outputs": [],
   "source": [
    "score = 96"
   ]
  },
  {
   "cell_type": "code",
   "execution_count": null,
   "metadata": {},
   "outputs": [],
   "source": [
    "# 아래에 코드를 작성하세요.\n",
    "# if, elif, else 문을 상황에 따라 중첩해서 활용해봅시다.\n",
    "# score에 할당된 값이 90 이상인 경우에 일단 'A'를 출력하고,\n",
    "# score에 할당된 값이 95 이상인 경우에는 추가적으로 '참 잘했어요.'를 출력하고,\n",
    "# score에 할당된 값이 90 미만, 80 이상인 경우에는 'B'를 출력하고,\n",
    "# score에 할당된 값이 80 미만, 70 이상인 경우에는 'C'를 출력하고,\n",
    "# score에 할당된 값이 70 미만, 60 이상인 경우에는 'D'를 출력하고,\n",
    "# score에 할당된 값이 60 미만인 경우에는 'F'를 출력하는 코드를 작성하시오."
   ]
  },
  {
   "cell_type": "code",
   "execution_count": null,
   "metadata": {},
   "outputs": [],
   "source": []
  },
  {
   "cell_type": "markdown",
   "metadata": {},
   "source": [
    "## 조건 표현식(Conditional Expression)\n",
    "\n",
    "* 조건 표현식은 일반적으로 조건에 따라 값을 정할 때 활용됩니다.\n",
    "\n",
    "* **삼항 연산자(Ternary Operator)**라고 부르기도 합니다.\n",
    "\n",
    "---\n",
    "\n",
    "**활용법**\n",
    "\n",
    "```python\n",
    "true_value if <조건식> else false_value\n",
    "```"
   ]
  },
  {
   "cell_type": "code",
   "execution_count": null,
   "metadata": {},
   "outputs": [],
   "source": [
    "num = int(input('숫자를 입력하세요 : '))\n",
    "\n",
    "print('0 보다 큼') if num > 0 else print('0 보다 크지않음')"
   ]
  },
  {
   "cell_type": "code",
   "execution_count": null,
   "metadata": {},
   "outputs": [],
   "source": [
    "# 아래의 코드는 무엇을 위한 코드일까요?\n",
    "num = int(input('숫자를 입력하세요 : '))\n",
    "value = num if num >= 0 else -num\n",
    "print(value)"
   ]
  },
  {
   "cell_type": "code",
   "execution_count": null,
   "metadata": {},
   "outputs": [],
   "source": [
    "# 아래에 주석으로 답변을 작성하세요."
   ]
  },
  {
   "cell_type": "code",
   "execution_count": null,
   "metadata": {},
   "outputs": [],
   "source": []
  },
  {
   "cell_type": "markdown",
   "metadata": {},
   "source": [
    "### [연습] 조건 표현식 작성하기\n",
    "\n",
    "> 다음의 코드와 동일한 조건 표현식을 작성해보세요.\n",
    "\n",
    "```python\n",
    "num = 2\n",
    "if num % 2:\n",
    "    result = '홀수입니다.'\n",
    "else:\n",
    "    result = '짝수입니다.'\n",
    "print(result)\n",
    "```\n",
    "---\n",
    "\n",
    "**[출력 예시]**\n",
    "```\n",
    "짝수입니다.\n",
    "```"
   ]
  },
  {
   "cell_type": "code",
   "execution_count": null,
   "metadata": {},
   "outputs": [],
   "source": [
    "# 아래에 코드를 작성하세요.\n",
    "# 위의 조건문을 조건 표현식으로 바꿔보세요."
   ]
  },
  {
   "cell_type": "code",
   "execution_count": null,
   "metadata": {},
   "outputs": [],
   "source": []
  },
  {
   "cell_type": "markdown",
   "metadata": {},
   "source": [
    "### [실습] 조건 표현식과 동일한 if 문 작성하기\n",
    "\n",
    "> 다음의 코드와 동일한 `if`문을 작성해보세요.\n",
    "\n",
    "```python\n",
    "num = -5\n",
    "value = num if num >= 0 else 0\n",
    "print(value)\n",
    "```\n",
    "---\n",
    "**[출력 예시]**\n",
    "\n",
    "0"
   ]
  },
  {
   "cell_type": "code",
   "execution_count": null,
   "metadata": {},
   "outputs": [],
   "source": [
    "# 아래에 코드를 작성하세요.\n",
    "# 위의 조건 표현식을 if 문으로 바꿔보세요."
   ]
  },
  {
   "cell_type": "code",
   "execution_count": null,
   "metadata": {},
   "outputs": [],
   "source": []
  }
 ],
 "metadata": {
  "interpreter": {
   "hash": "322018e35ac4f46d1be23d37489e93f08b335b6041c3f34be3e4bfc70f2b3c28"
  },
  "kernelspec": {
   "display_name": "Python 3 (ipykernel)",
   "language": "python",
   "name": "python3"
  },
  "language_info": {
   "codemirror_mode": {
    "name": "ipython",
    "version": 3
   },
   "file_extension": ".py",
   "mimetype": "text/x-python",
   "name": "python",
   "nbconvert_exporter": "python",
   "pygments_lexer": "ipython3",
   "version": "3.9.7"
  }
 },
 "nbformat": 4,
 "nbformat_minor": 2
}
